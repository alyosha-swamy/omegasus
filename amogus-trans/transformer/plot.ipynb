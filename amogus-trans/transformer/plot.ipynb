{
 "cells": [
  {
   "cell_type": "code",
   "execution_count": 2,
   "metadata": {},
   "outputs": [],
   "source": [
    "%load_ext autoreload\n",
    "%autoreload 2"
   ]
  },
  {
   "cell_type": "code",
   "execution_count": 2,
   "metadata": {},
   "outputs": [
    {
     "name": "stderr",
     "output_type": "stream",
     "text": [
      "<frozen importlib._bootstrap>:228: RuntimeWarning: scipy._lib.messagestream.MessageStream size changed, may indicate binary incompatibility. Expected 56 from C header, got 64 from PyObject\n"
     ]
    }
   ],
   "source": [
    "import os\n",
    "from transformers import GPT2Tokenizer, GPT2LMHeadModel, GPT2Config\n",
    "from osus_dataset import OSUSDataset\n",
    "from util import get_csv_data, train, generate, generate_conversation\n",
    "import numpy as np\n",
    "import matplotlib.pyplot as plt\n",
    "import torch\n",
    "\n",
    "DATA_DIR = '../data_dir'\n",
    "MODEL_DIR = 'model_dir'\n",
    "SAVED_MODEL_PREFIX = 'bigboi'"
   ]
  },
  {
   "attachments": {},
   "cell_type": "markdown",
   "metadata": {},
   "source": [
    "# Importing the Model"
   ]
  },
  {
   "cell_type": "code",
   "execution_count": 4,
   "metadata": {},
   "outputs": [],
   "source": [
    "tokenizer = GPT2Tokenizer.from_pretrained('gpt2')\n",
    "model = GPT2LMHeadModel.from_pretrained('gpt2')"
   ]
  },
  {
   "attachments": {},
   "cell_type": "markdown",
   "metadata": {},
   "source": [
    "# Importing the Test Dataset"
   ]
  },
  {
   "cell_type": "code",
   "execution_count": 5,
   "metadata": {},
   "outputs": [],
   "source": [
    "train_data = get_csv_data(os.path.join(DATA_DIR, 'train'))"
   ]
  },
  {
   "cell_type": "code",
   "execution_count": 7,
   "metadata": {},
   "outputs": [],
   "source": [
    "train_dataset = OSUSDataset(train_data, tokenizer, 1024) # OSUSDataset Obj"
   ]
  },
  {
   "attachments": {},
   "cell_type": "markdown",
   "metadata": {},
   "source": [
    "# Training the Model"
   ]
  },
  {
   "cell_type": "code",
   "execution_count": 14,
   "metadata": {},
   "outputs": [
    {
     "name": "stdout",
     "output_type": "stream",
     "text": [
      "dataset <osus_dataset.OSUSDataset object at 0x7f2ffc1f9bb0>\n"
     ]
    },
    {
     "name": "stderr",
     "output_type": "stream",
     "text": [
      "Epoch:   0%|          | 0/20 [00:00<?, ?it/s]"
     ]
    },
    {
     "name": "stdout",
     "output_type": "stream",
     "text": [
      "Loss: 0\n"
     ]
    },
    {
     "name": "stderr",
     "output_type": "stream",
     "text": [
      "Iteration: 3it [00:00,  8.88it/s]\n",
      "Epoch:   0%|          | 0/20 [00:00<?, ?it/s]\n"
     ]
    },
    {
     "ename": "RuntimeError",
     "evalue": "CUDA out of memory. Tried to allocate 108.00 MiB (GPU 0; 6.00 GiB total capacity; 5.08 GiB already allocated; 0 bytes free; 5.29 GiB reserved in total by PyTorch) If reserved memory is >> allocated memory try setting max_split_size_mb to avoid fragmentation.  See documentation for Memory Management and PYTORCH_CUDA_ALLOC_CONF",
     "output_type": "error",
     "traceback": [
      "\u001b[0;31m---------------------------------------------------------------------------\u001b[0m",
      "\u001b[0;31mRuntimeError\u001b[0m                              Traceback (most recent call last)",
      "\u001b[1;32m/home/ggharibian/Desktop/Projects/Personal_Projects/AmongUsAI/omegasus/amogus-trans/transformer/plot.ipynb Cell 10\u001b[0m in \u001b[0;36m1\n\u001b[0;32m----> <a href='vscode-notebook-cell://wsl%2Bubuntu-20.04/home/ggharibian/Desktop/Projects/Personal_Projects/AmongUsAI/omegasus/amogus-trans/transformer/plot.ipynb#X12sdnNjb2RlLXJlbW90ZQ%3D%3D?line=0'>1</a>\u001b[0m model, loss_history \u001b[39m=\u001b[39m train(train_dataset, \n\u001b[1;32m      <a href='vscode-notebook-cell://wsl%2Bubuntu-20.04/home/ggharibian/Desktop/Projects/Personal_Projects/AmongUsAI/omegasus/amogus-trans/transformer/plot.ipynb#X12sdnNjb2RlLXJlbW90ZQ%3D%3D?line=1'>2</a>\u001b[0m                   model, \n\u001b[1;32m      <a href='vscode-notebook-cell://wsl%2Bubuntu-20.04/home/ggharibian/Desktop/Projects/Personal_Projects/AmongUsAI/omegasus/amogus-trans/transformer/plot.ipynb#X12sdnNjb2RlLXJlbW90ZQ%3D%3D?line=2'>3</a>\u001b[0m                   batch_size\u001b[39m=\u001b[39m\u001b[39m1\u001b[39m,\n\u001b[1;32m      <a href='vscode-notebook-cell://wsl%2Bubuntu-20.04/home/ggharibian/Desktop/Projects/Personal_Projects/AmongUsAI/omegasus/amogus-trans/transformer/plot.ipynb#X12sdnNjb2RlLXJlbW90ZQ%3D%3D?line=3'>4</a>\u001b[0m                   epochs\u001b[39m=\u001b[39m\u001b[39m20\u001b[39m, \n\u001b[1;32m      <a href='vscode-notebook-cell://wsl%2Bubuntu-20.04/home/ggharibian/Desktop/Projects/Personal_Projects/AmongUsAI/omegasus/amogus-trans/transformer/plot.ipynb#X12sdnNjb2RlLXJlbW90ZQ%3D%3D?line=4'>5</a>\u001b[0m                   lr\u001b[39m=\u001b[39m\u001b[39m2e-5\u001b[39m,\n\u001b[1;32m      <a href='vscode-notebook-cell://wsl%2Bubuntu-20.04/home/ggharibian/Desktop/Projects/Personal_Projects/AmongUsAI/omegasus/amogus-trans/transformer/plot.ipynb#X12sdnNjb2RlLXJlbW90ZQ%3D%3D?line=5'>6</a>\u001b[0m                   output_dir\u001b[39m=\u001b[39mMODEL_DIR,\n\u001b[1;32m      <a href='vscode-notebook-cell://wsl%2Bubuntu-20.04/home/ggharibian/Desktop/Projects/Personal_Projects/AmongUsAI/omegasus/amogus-trans/transformer/plot.ipynb#X12sdnNjb2RlLXJlbW90ZQ%3D%3D?line=6'>7</a>\u001b[0m                   output_prefix\u001b[39m=\u001b[39mSAVED_MODEL_PREFIX,\n\u001b[1;32m      <a href='vscode-notebook-cell://wsl%2Bubuntu-20.04/home/ggharibian/Desktop/Projects/Personal_Projects/AmongUsAI/omegasus/amogus-trans/transformer/plot.ipynb#X12sdnNjb2RlLXJlbW90ZQ%3D%3D?line=7'>8</a>\u001b[0m                   save_model_on_epoch\u001b[39m=\u001b[39m\u001b[39mTrue\u001b[39;00m,\n\u001b[1;32m      <a href='vscode-notebook-cell://wsl%2Bubuntu-20.04/home/ggharibian/Desktop/Projects/Personal_Projects/AmongUsAI/omegasus/amogus-trans/transformer/plot.ipynb#X12sdnNjb2RlLXJlbW90ZQ%3D%3D?line=8'>9</a>\u001b[0m                   save_best_model\u001b[39m=\u001b[39m\u001b[39mTrue\u001b[39;00m\n\u001b[1;32m     <a href='vscode-notebook-cell://wsl%2Bubuntu-20.04/home/ggharibian/Desktop/Projects/Personal_Projects/AmongUsAI/omegasus/amogus-trans/transformer/plot.ipynb#X12sdnNjb2RlLXJlbW90ZQ%3D%3D?line=9'>10</a>\u001b[0m                   )\n",
      "File \u001b[0;32m/mnt/c/Users/gghar/OneDrive/Desktop/Projects/Personal_Projects/AmongUsAI/omegasus/amogus-trans/transformer/util.py:73\u001b[0m, in \u001b[0;36mtrain\u001b[0;34m(dataset, model, batch_size, epochs, lr, warmup_steps, output_dir, output_prefix, save_model_on_epoch, save_best_model)\u001b[0m\n\u001b[1;32m     71\u001b[0m outputs \u001b[39m=\u001b[39m model(input_tensor, labels\u001b[39m=\u001b[39minput_tensor)\n\u001b[1;32m     72\u001b[0m loss \u001b[39m=\u001b[39m outputs[\u001b[39m0\u001b[39m]\n\u001b[0;32m---> 73\u001b[0m loss\u001b[39m.\u001b[39;49mbackward()\n\u001b[1;32m     75\u001b[0m \u001b[39mif\u001b[39;00m (accumulating_batch_count \u001b[39m%\u001b[39m batch_size) \u001b[39m==\u001b[39m \u001b[39m0\u001b[39m:\n\u001b[1;32m     76\u001b[0m     optimizer\u001b[39m.\u001b[39mstep()\n",
      "File \u001b[0;32m~/miniconda3/lib/python3.9/site-packages/torch/_tensor.py:396\u001b[0m, in \u001b[0;36mTensor.backward\u001b[0;34m(self, gradient, retain_graph, create_graph, inputs)\u001b[0m\n\u001b[1;32m    387\u001b[0m \u001b[39mif\u001b[39;00m has_torch_function_unary(\u001b[39mself\u001b[39m):\n\u001b[1;32m    388\u001b[0m     \u001b[39mreturn\u001b[39;00m handle_torch_function(\n\u001b[1;32m    389\u001b[0m         Tensor\u001b[39m.\u001b[39mbackward,\n\u001b[1;32m    390\u001b[0m         (\u001b[39mself\u001b[39m,),\n\u001b[0;32m   (...)\u001b[0m\n\u001b[1;32m    394\u001b[0m         create_graph\u001b[39m=\u001b[39mcreate_graph,\n\u001b[1;32m    395\u001b[0m         inputs\u001b[39m=\u001b[39minputs)\n\u001b[0;32m--> 396\u001b[0m torch\u001b[39m.\u001b[39;49mautograd\u001b[39m.\u001b[39;49mbackward(\u001b[39mself\u001b[39;49m, gradient, retain_graph, create_graph, inputs\u001b[39m=\u001b[39;49minputs)\n",
      "File \u001b[0;32m~/miniconda3/lib/python3.9/site-packages/torch/autograd/__init__.py:173\u001b[0m, in \u001b[0;36mbackward\u001b[0;34m(tensors, grad_tensors, retain_graph, create_graph, grad_variables, inputs)\u001b[0m\n\u001b[1;32m    168\u001b[0m     retain_graph \u001b[39m=\u001b[39m create_graph\n\u001b[1;32m    170\u001b[0m \u001b[39m# The reason we repeat same the comment below is that\u001b[39;00m\n\u001b[1;32m    171\u001b[0m \u001b[39m# some Python versions print out the first line of a multi-line function\u001b[39;00m\n\u001b[1;32m    172\u001b[0m \u001b[39m# calls in the traceback and some print out the last line\u001b[39;00m\n\u001b[0;32m--> 173\u001b[0m Variable\u001b[39m.\u001b[39;49m_execution_engine\u001b[39m.\u001b[39;49mrun_backward(  \u001b[39m# Calls into the C++ engine to run the backward pass\u001b[39;49;00m\n\u001b[1;32m    174\u001b[0m     tensors, grad_tensors_, retain_graph, create_graph, inputs,\n\u001b[1;32m    175\u001b[0m     allow_unreachable\u001b[39m=\u001b[39;49m\u001b[39mTrue\u001b[39;49;00m, accumulate_grad\u001b[39m=\u001b[39;49m\u001b[39mTrue\u001b[39;49;00m)\n",
      "\u001b[0;31mRuntimeError\u001b[0m: CUDA out of memory. Tried to allocate 108.00 MiB (GPU 0; 6.00 GiB total capacity; 5.08 GiB already allocated; 0 bytes free; 5.29 GiB reserved in total by PyTorch) If reserved memory is >> allocated memory try setting max_split_size_mb to avoid fragmentation.  See documentation for Memory Management and PYTORCH_CUDA_ALLOC_CONF"
     ]
    }
   ],
   "source": [
    "model, loss_history = train(train_dataset, \n",
    "                  model, \n",
    "                  batch_size=1,\n",
    "                  epochs=20, \n",
    "                  lr=2e-5,\n",
    "                  output_dir=MODEL_DIR,\n",
    "                  output_prefix=SAVED_MODEL_PREFIX,\n",
    "                  save_model_on_epoch=True,\n",
    "                  save_best_model=True\n",
    "                  )"
   ]
  },
  {
   "attachments": {},
   "cell_type": "markdown",
   "metadata": {},
   "source": [
    "# Visualizing the Data"
   ]
  },
  {
   "cell_type": "code",
   "execution_count": null,
   "metadata": {},
   "outputs": [],
   "source": [
    "loss_history = np.array(loss_history)\n",
    "epoch_nums = np.arange(1, len(loss_history) + 1)"
   ]
  },
  {
   "cell_type": "code",
   "execution_count": null,
   "metadata": {},
   "outputs": [
    {
     "data": {
      "text/plain": [
       "[<matplotlib.lines.Line2D at 0x7f047c0a8e20>]"
      ]
     },
     "execution_count": 9,
     "metadata": {},
     "output_type": "execute_result"
    },
    {
     "data": {
      "image/png": "[encoded data removed]",
      "text/plain": [
       "<Figure size 640x480 with 1 Axes>"
      ]
     },
     "metadata": {},
     "output_type": "display_data"
    }
   ],
   "source": [
    "plt.xlabel('Epoch #')\n",
    "plt.ylabel('Train Loss')\n",
    "plt.title('Train Loss v.s. Epoch # for GPT2')\n",
    "plt.plot(epoch_nums, loss_history)"
   ]
  },
  {
   "attachments": {},
   "cell_type": "markdown",
   "metadata": {},
   "source": [
    "# Importing Best Model"
   ]
  },
  {
   "cell_type": "code",
   "execution_count": 3,
   "metadata": {},
   "outputs": [
    {
     "data": {
      "text/plain": [
       "<All keys matched successfully>"
      ]
     },
     "execution_count": 3,
     "metadata": {},
     "output_type": "execute_result"
    }
   ],
   "source": [
    "tokenizer = GPT2Tokenizer.from_pretrained('gpt2')\n",
    "model = GPT2LMHeadModel.from_pretrained('gpt2')\n",
    "model.load_state_dict(torch.load('model_dir/bigboi-best-1.pt'))"
   ]
  },
  {
   "attachments": {},
   "cell_type": "markdown",
   "metadata": {},
   "source": [
    "# Comparing Best Model vs Regular GPT2 Accuracy using Auto-evaluation Metrics"
   ]
  },
  {
   "cell_type": "code",
   "execution_count": 4,
   "metadata": {},
   "outputs": [],
   "source": [
    "from nltk.translate import bleu_score, meteor_score, nist_score\n",
    "# perplexity, LSA"
   ]
  },
  {
   "cell_type": "code",
   "execution_count": 5,
   "metadata": {},
   "outputs": [],
   "source": [
    "regular_model = GPT2LMHeadModel.from_pretrained('gpt2')"
   ]
  },
  {
   "cell_type": "code",
   "execution_count": 6,
   "metadata": {},
   "outputs": [],
   "source": [
    "test_data = get_csv_data(os.path.join(DATA_DIR, 'test'))\n",
    "test_dataset = OSUSDataset(test_data, tokenizer, 1024) # OSUSDataset Obj"
   ]
  },
  {
   "cell_type": "code",
   "execution_count": 7,
   "metadata": {},
   "outputs": [],
   "source": [
    "def get_imposter_in_sentence(sentence: str):\n",
    "    sent_list = sentence.split('\\n')\n",
    "    for sent in sent_list:\n",
    "        if (sent.split('\\t')[1] == 'imposter'):\n",
    "            return sent.split('\\t')[0]\n",
    "        \n",
    "def get_dead_player(sentence: str):\n",
    "    remaining_players = ['Red', 'Green', 'Blue', 'Yellow']\n",
    "    sent_list = sentence.split('\\n')\n",
    "    for sent in sent_list[:3]:\n",
    "        remaining_players.remove(sent.split('\\t')[0])\n",
    "        \n",
    "    return remaining_players[0]\n",
    "        \n",
    "test_data_info = [(x.split('\\n')[0].split('\\t')[0], get_imposter_in_sentence(x), get_dead_player(x)) for x in test_data]"
   ]
  },
  {
   "cell_type": "code",
   "execution_count": 8,
   "metadata": {},
   "outputs": [
    {
     "name": "stderr",
     "output_type": "stream",
     "text": [
      "100%|██████████| 1/1 [00:35<00:00, 35.15s/it]\n",
      "100%|██████████| 1/1 [00:01<00:00,  1.70s/it]\n",
      "100%|██████████| 1/1 [00:36<00:00, 36.18s/it]\n",
      "100%|██████████| 1/1 [00:38<00:00, 38.71s/it]\n",
      "100%|██████████| 1/1 [00:01<00:00,  1.79s/it]\n",
      "100%|██████████| 1/1 [00:06<00:00,  6.04s/it]\n",
      "100%|██████████| 1/1 [00:34<00:00, 34.39s/it]\n",
      "100%|██████████| 1/1 [00:01<00:00,  1.26s/it]\n",
      "100%|██████████| 1/1 [00:19<00:00, 19.64s/it]\n",
      "100%|██████████| 1/1 [00:02<00:00,  2.46s/it]\n",
      "100%|██████████| 1/1 [00:31<00:00, 31.75s/it]\n",
      "100%|██████████| 1/1 [00:33<00:00, 33.53s/it]\n",
      "100%|██████████| 1/1 [00:02<00:00,  2.15s/it]\n",
      "100%|██████████| 1/1 [00:09<00:00,  9.35s/it]\n",
      "100%|██████████| 1/1 [00:30<00:00, 30.93s/it]\n",
      "100%|██████████| 1/1 [00:01<00:00,  1.81s/it]\n",
      "100%|██████████| 1/1 [00:31<00:00, 31.77s/it]\n",
      "100%|██████████| 1/1 [00:01<00:00,  1.61s/it]\n",
      "100%|██████████| 1/1 [00:00<00:00,  1.12it/s]\n",
      "100%|██████████| 1/1 [00:01<00:00,  1.31s/it]\n",
      "100%|██████████| 1/1 [00:02<00:00,  2.89s/it]\n",
      "100%|██████████| 1/1 [00:01<00:00,  1.04s/it]\n",
      "100%|██████████| 1/1 [00:32<00:00, 32.28s/it]\n",
      "100%|██████████| 1/1 [00:33<00:00, 33.31s/it]\n",
      "100%|██████████| 1/1 [00:32<00:00, 32.12s/it]\n",
      "100%|██████████| 1/1 [00:01<00:00,  1.45s/it]\n",
      "100%|██████████| 1/1 [00:00<00:00,  1.25it/s]\n",
      "100%|██████████| 1/1 [00:32<00:00, 32.75s/it]\n",
      "100%|██████████| 1/1 [00:32<00:00, 32.27s/it]\n",
      "100%|██████████| 1/1 [00:31<00:00, 31.31s/it]\n",
      "100%|██████████| 1/1 [00:33<00:00, 33.51s/it]\n",
      "100%|██████████| 1/1 [00:34<00:00, 34.03s/it]\n",
      "100%|██████████| 1/1 [00:34<00:00, 34.47s/it]\n",
      "100%|██████████| 1/1 [00:33<00:00, 33.94s/it]\n",
      "100%|██████████| 1/1 [00:34<00:00, 34.02s/it]\n",
      "100%|██████████| 1/1 [00:32<00:00, 32.05s/it]\n",
      "100%|██████████| 1/1 [00:03<00:00,  3.58s/it]\n",
      "100%|██████████| 1/1 [00:33<00:00, 33.17s/it]\n",
      "100%|██████████| 1/1 [00:02<00:00,  2.28s/it]\n",
      "100%|██████████| 1/1 [00:02<00:00,  2.75s/it]\n",
      "100%|██████████| 1/1 [00:33<00:00, 33.11s/it]\n",
      "100%|██████████| 1/1 [00:01<00:00,  1.98s/it]\n",
      "100%|██████████| 1/1 [00:31<00:00, 31.68s/it]\n",
      "100%|██████████| 1/1 [00:32<00:00, 32.08s/it]\n",
      "100%|██████████| 1/1 [00:03<00:00,  3.90s/it]\n",
      "100%|██████████| 1/1 [00:02<00:00,  2.17s/it]\n",
      "100%|██████████| 1/1 [00:33<00:00, 33.39s/it]\n",
      "100%|██████████| 1/1 [00:31<00:00, 31.34s/it]\n",
      "100%|██████████| 1/1 [00:02<00:00,  2.13s/it]\n",
      "100%|██████████| 1/1 [00:31<00:00, 31.12s/it]\n",
      "100%|██████████| 1/1 [00:03<00:00,  3.77s/it]\n",
      "100%|██████████| 1/1 [00:02<00:00,  2.48s/it]\n",
      "100%|██████████| 1/1 [00:30<00:00, 30.93s/it]\n",
      "100%|██████████| 1/1 [00:30<00:00, 30.32s/it]\n",
      "100%|██████████| 1/1 [00:31<00:00, 31.02s/it]\n",
      "100%|██████████| 1/1 [00:32<00:00, 32.01s/it]\n",
      "100%|██████████| 1/1 [00:03<00:00,  3.15s/it]\n",
      "100%|██████████| 1/1 [00:04<00:00,  4.80s/it]\n",
      "100%|██████████| 1/1 [00:32<00:00, 32.08s/it]\n",
      "100%|██████████| 1/1 [00:16<00:00, 16.55s/it]\n",
      "100%|██████████| 1/1 [00:03<00:00,  3.00s/it]\n",
      "100%|██████████| 1/1 [00:30<00:00, 30.98s/it]\n",
      "100%|██████████| 1/1 [00:18<00:00, 18.15s/it]\n",
      "100%|██████████| 1/1 [00:31<00:00, 31.74s/it]\n",
      "100%|██████████| 1/1 [00:30<00:00, 30.21s/it]\n",
      "100%|██████████| 1/1 [00:03<00:00,  3.97s/it]\n",
      "100%|██████████| 1/1 [00:06<00:00,  6.65s/it]\n",
      "100%|██████████| 1/1 [00:03<00:00,  3.42s/it]\n",
      "100%|██████████| 1/1 [00:30<00:00, 30.66s/it]\n",
      "100%|██████████| 1/1 [00:06<00:00,  6.33s/it]\n",
      "100%|██████████| 1/1 [00:31<00:00, 31.15s/it]\n",
      "100%|██████████| 1/1 [00:30<00:00, 30.66s/it]\n",
      "100%|██████████| 1/1 [00:30<00:00, 30.60s/it]\n",
      "100%|██████████| 1/1 [00:19<00:00, 19.36s/it]\n",
      "100%|██████████| 1/1 [00:31<00:00, 31.20s/it]\n",
      "100%|██████████| 1/1 [00:34<00:00, 34.23s/it]\n",
      "100%|██████████| 1/1 [00:02<00:00,  2.14s/it]\n",
      "100%|██████████| 1/1 [00:34<00:00, 34.35s/it]\n",
      "100%|██████████| 1/1 [00:35<00:00, 35.38s/it]\n",
      "100%|██████████| 1/1 [00:00<00:00,  1.65it/s]\n",
      "100%|██████████| 1/1 [00:07<00:00,  7.88s/it]\n",
      "100%|██████████| 1/1 [00:06<00:00,  6.13s/it]\n",
      "100%|██████████| 1/1 [00:35<00:00, 35.68s/it]\n",
      "100%|██████████| 1/1 [00:08<00:00,  8.24s/it]\n",
      "100%|██████████| 1/1 [00:34<00:00, 34.24s/it]\n",
      "100%|██████████| 1/1 [00:06<00:00,  6.29s/it]\n",
      "100%|██████████| 1/1 [00:33<00:00, 33.44s/it]\n",
      "100%|██████████| 1/1 [00:14<00:00, 14.18s/it]\n",
      "100%|██████████| 1/1 [00:11<00:00, 11.38s/it]\n",
      "100%|██████████| 1/1 [00:32<00:00, 32.30s/it]\n",
      "100%|██████████| 1/1 [00:05<00:00,  5.00s/it]\n",
      "100%|██████████| 1/1 [00:04<00:00,  4.87s/it]\n",
      "100%|██████████| 1/1 [00:01<00:00,  1.33s/it]\n",
      "100%|██████████| 1/1 [00:30<00:00, 30.79s/it]\n",
      "100%|██████████| 1/1 [00:10<00:00, 10.88s/it]\n",
      "100%|██████████| 1/1 [00:01<00:00,  1.86s/it]\n",
      "100%|██████████| 1/1 [00:31<00:00, 31.03s/it]\n",
      "100%|██████████| 1/1 [00:32<00:00, 32.11s/it]\n",
      "100%|██████████| 1/1 [00:05<00:00,  5.93s/it]\n"
     ]
    }
   ],
   "source": [
    "generated_test_data = [generate_conversation(model, tokenizer, x[0], x[1], x[2]) for x in test_data_info]"
   ]
  },
  {
   "cell_type": "code",
   "execution_count": 9,
   "metadata": {},
   "outputs": [],
   "source": [
    "bleu_scores = [bleu_score.sentence_bleu([' '.join(' '.join(test_point.split('\\n')).split('\\t'))], ' '.join(' '.join(gen_point.split('\\n')).split('\\t'))) for test_point, gen_point in zip(test_data, generated_test_data)]\n",
    "nist_scores = [nist_score.sentence_nist([' '.join(' '.join(test_point.split('\\n')).split('\\t'))], ' '.join(' '.join(gen_point.split('\\n')).split('\\t'))) for test_point, gen_point in zip(test_data, generated_test_data)]\n",
    "meteor_scores = [meteor_score.meteor_score([' '.join(' '.join(test_point.split('\\n')).split('\\t')).split(' ')], ' '.join(' '.join(gen_point.split('\\n')).split('\\t')).split(' ')) for test_point, gen_point in zip(test_data, generated_test_data)]"
   ]
  },
  {
   "cell_type": "code",
   "execution_count": 10,
   "metadata": {},
   "outputs": [
    {
     "name": "stdout",
     "output_type": "stream",
     "text": [
      "Avg. Bleu Score: 0.40379784205370994\n",
      "Avg. Nist Score: 4.171610625296543\n",
      "Avg. Meteor Score: 0.2359657919611683\n"
     ]
    }
   ],
   "source": [
    "print('Avg. Bleu Score:', sum(bleu_scores) / len(bleu_scores))\n",
    "print('Avg. Nist Score:', sum(nist_scores) / len(nist_scores))\n",
    "print('Avg. Meteor Score:', sum(meteor_scores) / len(meteor_scores))"
   ]
  },
  {
   "cell_type": "code",
   "execution_count": 13,
   "metadata": {},
   "outputs": [
    {
     "name": "stderr",
     "output_type": "stream",
     "text": [
      "100%|██████████| 1/1 [00:00<00:00,  1.39it/s]\n",
      "100%|██████████| 1/1 [00:00<00:00,  1.13it/s]\n",
      "100%|██████████| 1/1 [00:02<00:00,  2.19s/it]\n",
      "100%|██████████| 1/1 [00:02<00:00,  2.39s/it]\n",
      "100%|██████████| 1/1 [00:01<00:00,  1.68s/it]\n",
      "100%|██████████| 1/1 [00:03<00:00,  3.93s/it]\n",
      "100%|██████████| 1/1 [00:00<00:00,  1.75it/s]\n",
      "100%|██████████| 1/1 [00:00<00:00,  1.09it/s]\n",
      "100%|██████████| 1/1 [00:00<00:00,  1.18it/s]\n",
      "100%|██████████| 1/1 [00:00<00:00,  1.16it/s]\n",
      "100%|██████████| 1/1 [00:01<00:00,  1.81s/it]\n",
      "100%|██████████| 1/1 [00:00<00:00,  2.07it/s]\n",
      "100%|██████████| 1/1 [00:02<00:00,  2.06s/it]\n",
      "100%|██████████| 1/1 [00:02<00:00,  2.41s/it]\n",
      "100%|██████████| 1/1 [00:39<00:00, 39.10s/it]\n",
      "100%|██████████| 1/1 [00:06<00:00,  6.01s/it]\n",
      "100%|██████████| 1/1 [00:01<00:00,  1.63s/it]\n",
      "100%|██████████| 1/1 [00:35<00:00, 35.79s/it]\n",
      "100%|██████████| 1/1 [00:01<00:00,  1.19s/it]\n",
      "100%|██████████| 1/1 [00:03<00:00,  3.77s/it]\n",
      "100%|██████████| 1/1 [00:32<00:00, 32.99s/it]\n",
      "100%|██████████| 1/1 [00:00<00:00,  1.28it/s]\n",
      "100%|██████████| 1/1 [00:00<00:00,  1.88it/s]\n",
      "100%|██████████| 1/1 [00:01<00:00,  1.74s/it]\n",
      "100%|██████████| 1/1 [00:02<00:00,  2.38s/it]\n",
      "100%|██████████| 1/1 [00:00<00:00,  1.19it/s]\n",
      "100%|██████████| 1/1 [00:01<00:00,  1.83s/it]\n",
      "100%|██████████| 1/1 [00:00<00:00,  1.16it/s]\n",
      "100%|██████████| 1/1 [00:03<00:00,  3.02s/it]\n",
      "100%|██████████| 1/1 [00:02<00:00,  2.29s/it]\n",
      "100%|██████████| 1/1 [00:02<00:00,  2.35s/it]\n",
      "100%|██████████| 1/1 [00:00<00:00,  1.70it/s]\n",
      "100%|██████████| 1/1 [00:00<00:00,  1.30it/s]\n",
      "100%|██████████| 1/1 [00:34<00:00, 34.62s/it]\n",
      "100%|██████████| 1/1 [00:05<00:00,  5.42s/it]\n",
      "100%|██████████| 1/1 [00:01<00:00,  1.17s/it]\n",
      "100%|██████████| 1/1 [00:01<00:00,  1.63s/it]\n",
      "100%|██████████| 1/1 [00:34<00:00, 34.84s/it]\n",
      "100%|██████████| 1/1 [00:01<00:00,  1.04s/it]\n",
      "100%|██████████| 1/1 [00:02<00:00,  2.56s/it]\n",
      "100%|██████████| 1/1 [00:01<00:00,  1.76s/it]\n",
      "100%|██████████| 1/1 [00:00<00:00,  1.15it/s]\n",
      "100%|██████████| 1/1 [00:35<00:00, 35.07s/it]\n",
      "100%|██████████| 1/1 [00:00<00:00,  1.04it/s]\n",
      "100%|██████████| 1/1 [00:02<00:00,  2.02s/it]\n",
      "100%|██████████| 1/1 [00:05<00:00,  5.28s/it]\n",
      "100%|██████████| 1/1 [00:31<00:00, 31.10s/it]\n",
      "100%|██████████| 1/1 [00:01<00:00,  1.17s/it]\n",
      "100%|██████████| 1/1 [00:01<00:00,  1.62s/it]\n",
      "100%|██████████| 1/1 [00:01<00:00,  1.16s/it]\n",
      "100%|██████████| 1/1 [00:32<00:00, 32.16s/it]\n",
      "100%|██████████| 1/1 [00:00<00:00,  1.24it/s]\n",
      "100%|██████████| 1/1 [00:01<00:00,  1.48s/it]\n",
      "100%|██████████| 1/1 [00:03<00:00,  3.70s/it]\n",
      "100%|██████████| 1/1 [00:04<00:00,  4.54s/it]\n",
      "100%|██████████| 1/1 [00:01<00:00,  1.07s/it]\n",
      "100%|██████████| 1/1 [00:01<00:00,  1.33s/it]\n",
      "100%|██████████| 1/1 [00:34<00:00, 34.07s/it]\n",
      "100%|██████████| 1/1 [00:01<00:00,  1.83s/it]\n",
      "100%|██████████| 1/1 [00:02<00:00,  2.17s/it]\n",
      "100%|██████████| 1/1 [00:00<00:00,  1.21it/s]\n",
      "100%|██████████| 1/1 [00:00<00:00,  1.55it/s]\n",
      "100%|██████████| 1/1 [00:35<00:00, 35.55s/it]\n",
      "100%|██████████| 1/1 [00:00<00:00,  2.04it/s]\n",
      "100%|██████████| 1/1 [00:00<00:00,  1.42it/s]\n",
      "100%|██████████| 1/1 [00:00<00:00,  1.11it/s]\n",
      "100%|██████████| 1/1 [00:32<00:00, 32.30s/it]\n",
      "100%|██████████| 1/1 [00:01<00:00,  1.99s/it]\n",
      "100%|██████████| 1/1 [00:32<00:00, 32.56s/it]\n",
      "100%|██████████| 1/1 [00:01<00:00,  1.04s/it]\n",
      "100%|██████████| 1/1 [00:02<00:00,  2.89s/it]\n",
      "100%|██████████| 1/1 [00:04<00:00,  4.47s/it]\n",
      "100%|██████████| 1/1 [00:01<00:00,  1.82s/it]\n",
      "100%|██████████| 1/1 [00:00<00:00,  1.41it/s]\n",
      "100%|██████████| 1/1 [00:35<00:00, 35.90s/it]\n",
      "100%|██████████| 1/1 [00:00<00:00,  1.92it/s]\n",
      "100%|██████████| 1/1 [00:01<00:00,  1.89s/it]\n",
      "100%|██████████| 1/1 [00:00<00:00,  1.34it/s]\n",
      "100%|██████████| 1/1 [00:00<00:00,  2.34it/s]\n",
      "100%|██████████| 1/1 [00:00<00:00,  2.00it/s]\n",
      "100%|██████████| 1/1 [00:34<00:00, 34.57s/it]\n",
      "100%|██████████| 1/1 [00:05<00:00,  5.82s/it]\n",
      "100%|██████████| 1/1 [00:33<00:00, 33.72s/it]\n",
      "100%|██████████| 1/1 [00:02<00:00,  2.35s/it]\n",
      "100%|██████████| 1/1 [00:01<00:00,  1.48s/it]\n",
      "100%|██████████| 1/1 [00:00<00:00,  1.17it/s]\n",
      "100%|██████████| 1/1 [00:00<00:00,  1.51it/s]\n",
      "100%|██████████| 1/1 [00:01<00:00,  1.11s/it]\n",
      "100%|██████████| 1/1 [00:01<00:00,  1.17s/it]\n",
      "100%|██████████| 1/1 [00:32<00:00, 32.36s/it]\n",
      "100%|██████████| 1/1 [00:01<00:00,  1.06s/it]\n",
      "100%|██████████| 1/1 [00:00<00:00,  1.80it/s]\n",
      "100%|██████████| 1/1 [00:09<00:00,  9.63s/it]\n",
      "100%|██████████| 1/1 [00:01<00:00,  1.01s/it]\n",
      "100%|██████████| 1/1 [00:01<00:00,  1.14s/it]\n",
      "100%|██████████| 1/1 [00:00<00:00,  1.03it/s]\n",
      "100%|██████████| 1/1 [00:00<00:00,  2.01it/s]\n",
      "100%|██████████| 1/1 [00:02<00:00,  2.98s/it]\n",
      "100%|██████████| 1/1 [00:02<00:00,  2.49s/it]\n"
     ]
    }
   ],
   "source": [
    "generated_test_data_base_model = [generate_conversation(regular_model, tokenizer, x[0], x[1], x[2]) for x in test_data_info]"
   ]
  },
  {
   "cell_type": "code",
   "execution_count": 14,
   "metadata": {},
   "outputs": [],
   "source": [
    "bleu_scores_base = [bleu_score.sentence_bleu([' '.join(' '.join(test_point.split('\\n')).split('\\t'))], ' '.join(' '.join(gen_point.split('\\n')).split('\\t'))) for test_point, gen_point in zip(test_data, generated_test_data_base_model)]\n",
    "nist_scores_base = [nist_score.sentence_nist([' '.join(' '.join(test_point.split('\\n')).split('\\t'))], ' '.join(' '.join(gen_point.split('\\n')).split('\\t'))) for test_point, gen_point in zip(test_data, generated_test_data_base_model)]\n",
    "meteor_scores_base = [meteor_score.meteor_score([' '.join(' '.join(test_point.split('\\n')).split('\\t')).split(' ')], ' '.join(' '.join(gen_point.split('\\n')).split('\\t')).split(' ')) for test_point, gen_point in zip(test_data, generated_test_data_base_model)]"
   ]
  },
  {
   "cell_type": "code",
   "execution_count": 15,
   "metadata": {},
   "outputs": [
    {
     "name": "stdout",
     "output_type": "stream",
     "text": [
      "Avg. Bleu Score: 0.10175769407879076\n",
      "Avg. Nist Score: 0.526868098212049\n",
      "Avg. Meteor Score: 0.12456682638278682\n"
     ]
    }
   ],
   "source": [
    "print('Avg. Bleu Score:', sum(bleu_scores_base) / len(bleu_scores_base))\n",
    "print('Avg. Nist Score:', sum(nist_scores_base) / len(nist_scores_base))\n",
    "print('Avg. Meteor Score:', sum(meteor_scores_base) / len(meteor_scores_base))"
   ]
  }
 ],
 "metadata": {
  "kernelspec": {
   "display_name": "base",
   "language": "python",
   "name": "python3"
  },
  "language_info": {
   "codemirror_mode": {
    "name": "ipython",
    "version": 3
   },
   "file_extension": ".py",
   "mimetype": "text/x-python",
   "name": "python",
   "nbconvert_exporter": "python",
   "pygments_lexer": "ipython3",
   "version": "3.9.13"
  },
  "orig_nbformat": 4
 },
 "nbformat": 4,
 "nbformat_minor": 2
}
