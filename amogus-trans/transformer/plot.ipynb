{
 "cells": [
  {
   "cell_type": "code",
   "execution_count": 1,
   "metadata": {},
   "outputs": [],
   "source": [
    "%load_ext autoreload\n",
    "%autoreload 2"
   ]
  },
  {
   "cell_type": "code",
   "execution_count": 15,
   "metadata": {},
   "outputs": [],
   "source": [
    "import os\n",
    "from transformers import GPT2Tokenizer, GPT2LMHeadModel, GPT2Config\n",
    "from osus_dataset import OSUSDataset\n",
    "from util import get_csv_data, train, generate, generate_conversation, generate_conversation_base_model\n",
    "import numpy as np\n",
    "import matplotlib.pyplot as plt\n",
    "import torch\n",
    "\n",
    "DATA_DIR = '../data_dir'\n",
    "MODEL_DIR = 'model_dir'\n",
    "SAVED_MODEL_PREFIX = 'bigboi'"
   ]
  },
  {
   "attachments": {},
   "cell_type": "markdown",
   "metadata": {},
   "source": [
    "# Importing the Model"
   ]
  },
  {
   "cell_type": "code",
   "execution_count": 3,
   "metadata": {},
   "outputs": [],
   "source": [
    "tokenizer = GPT2Tokenizer.from_pretrained('gpt2')\n",
    "model = GPT2LMHeadModel.from_pretrained('gpt2')"
   ]
  },
  {
   "attachments": {},
   "cell_type": "markdown",
   "metadata": {},
   "source": [
    "# Importing the Test Dataset"
   ]
  },
  {
   "cell_type": "code",
   "execution_count": 4,
   "metadata": {},
   "outputs": [],
   "source": [
    "train_data = get_csv_data(os.path.join(DATA_DIR, 'train'))"
   ]
  },
  {
   "cell_type": "code",
   "execution_count": 5,
   "metadata": {},
   "outputs": [
    {
     "data": {
      "text/plain": [
       "\"Blue\\tcrewmate\\tHey crewmates, I've called this meeting 'cause I found Red's lifeless bod in Communications! We gotta figure out who the imposter is ASAP and send them packing out the airlock!\\nYellow\\tcrewmate\\tOMG, not Red! I was doing tasks in O2, didn't see anything suspicious. Who was closest to Communications?\\nGreen\\timposter\\tWow, that's crazy! I was actually in the Cockpit doing some tasks, so unfortunately I don't have any information on who could have done it. But we definitely need to figure this out and get rid of the imposter before they take any more innocent crewmates out!\\nBlue\\tcrewmate\\tGuys, we need to start voting and skip if we don't have enough information. We can't afford to lose any more crewmates. Red's death is tragic, but we need to focus on finding the imposter and vote them out.\\nYellow\\tcrewmate\\tI can vouch for Green, I saw them doing tasks in the Cockpit when the emergency meeting was called. We should skip for now and keep an eye on anyone acting suspiciously.\\nGreen\\timposter\\tI totally agree with Blue. We need to vote and skip if we don't have enough information. I understand that Red's death is tragic, but we need to focus on finding the imposter and vote them out. As for me, I was in the Cockpit doing some tasks, so unfortunately I don't have any information on who could have done it. But if anyone is acting suspiciously, we should definitely keep an eye on them.\\nBlue\\tcrewmate\\tI think we should trust Yellow's observation and skip for now. We don't want to vote off an innocent crewmate. Let's keep an eye on anyone acting suspicious and gather more information in the next round.\\nYellow\\tcrewmate\\tGuys, I'm glad we're all on the same page. Safety first, crewmates! Let's keep an eye out for any suspicious behavior and get those tasks done. We got this!\\nGreen\\timposter\\tAs the Imposter, my response to the conversation would be, Wow, it's great to see everyone coming together and playing it safe! I'm just going to keep doing my tasks in the Cockpit and try not to act too suspicious. Good luck, crewmates!\""
      ]
     },
     "execution_count": 5,
     "metadata": {},
     "output_type": "execute_result"
    }
   ],
   "source": [
    "train_data[0]"
   ]
  },
  {
   "cell_type": "code",
   "execution_count": 6,
   "metadata": {},
   "outputs": [],
   "source": [
    "train_dataset = OSUSDataset(train_data, tokenizer, 1024) # OSUSDataset Obj"
   ]
  },
  {
   "attachments": {},
   "cell_type": "markdown",
   "metadata": {},
   "source": [
    "# Training the Model"
   ]
  },
  {
   "cell_type": "code",
   "execution_count": 7,
   "metadata": {},
   "outputs": [
    {
     "name": "stdout",
     "output_type": "stream",
     "text": [
      "dataset <osus_dataset.OSUSDataset object at 0x7f060c77eeb0>\n"
     ]
    },
    {
     "name": "stderr",
     "output_type": "stream",
     "text": [
      "Epoch:   0%|          | 0/20 [00:00<?, ?it/s]"
     ]
    },
    {
     "name": "stdout",
     "output_type": "stream",
     "text": [
      "Loss: 0\n"
     ]
    },
    {
     "name": "stderr",
     "output_type": "stream",
     "text": [
      "Iteration: 473it [00:51,  9.17it/s]\n",
      "Epoch:   5%|▌         | 1/20 [00:57<18:11, 57.45s/it]"
     ]
    },
    {
     "name": "stdout",
     "output_type": "stream",
     "text": [
      "Loss: tensor(1.3870, device='cuda:0', grad_fn=<NllLossBackward0>)\n"
     ]
    },
    {
     "name": "stderr",
     "output_type": "stream",
     "text": [
      "Iteration: 473it [00:49,  9.55it/s]\n",
      "Epoch:  10%|█         | 2/20 [01:49<16:21, 54.52s/it]"
     ]
    },
    {
     "name": "stdout",
     "output_type": "stream",
     "text": [
      "Loss: tensor(1.8308, device='cuda:0', grad_fn=<NllLossBackward0>)\n"
     ]
    },
    {
     "name": "stderr",
     "output_type": "stream",
     "text": [
      "Iteration: 473it [00:50,  9.43it/s]\n",
      "Epoch:  15%|█▌        | 3/20 [02:43<15:17, 53.99s/it]"
     ]
    },
    {
     "name": "stdout",
     "output_type": "stream",
     "text": [
      "Loss: tensor(1.7311, device='cuda:0', grad_fn=<NllLossBackward0>)\n"
     ]
    },
    {
     "name": "stderr",
     "output_type": "stream",
     "text": [
      "Iteration: 473it [00:49,  9.50it/s]\n",
      "Epoch:  20%|██        | 4/20 [03:36<14:17, 53.58s/it]"
     ]
    },
    {
     "name": "stdout",
     "output_type": "stream",
     "text": [
      "Loss: tensor(1.7711, device='cuda:0', grad_fn=<NllLossBackward0>)\n"
     ]
    },
    {
     "name": "stderr",
     "output_type": "stream",
     "text": [
      "Iteration: 473it [00:50,  9.40it/s]\n",
      "Epoch:  25%|██▌       | 5/20 [04:29<13:22, 53.53s/it]"
     ]
    },
    {
     "name": "stdout",
     "output_type": "stream",
     "text": [
      "Loss: tensor(1.7019, device='cuda:0', grad_fn=<NllLossBackward0>)\n"
     ]
    },
    {
     "name": "stderr",
     "output_type": "stream",
     "text": [
      "Iteration: 473it [00:50,  9.46it/s]\n",
      "Epoch:  30%|███       | 6/20 [05:22<12:26, 53.35s/it]"
     ]
    },
    {
     "name": "stdout",
     "output_type": "stream",
     "text": [
      "Loss: tensor(1.6842, device='cuda:0', grad_fn=<NllLossBackward0>)\n"
     ]
    },
    {
     "name": "stderr",
     "output_type": "stream",
     "text": [
      "Iteration: 473it [00:49,  9.55it/s]\n",
      "Epoch:  35%|███▌      | 7/20 [06:15<11:31, 53.17s/it]"
     ]
    },
    {
     "name": "stdout",
     "output_type": "stream",
     "text": [
      "Loss: tensor(1.8480, device='cuda:0', grad_fn=<NllLossBackward0>)\n"
     ]
    },
    {
     "name": "stderr",
     "output_type": "stream",
     "text": [
      "Iteration: 473it [00:52,  9.08it/s]\n",
      "Epoch:  40%|████      | 8/20 [07:11<10:47, 53.95s/it]"
     ]
    },
    {
     "name": "stdout",
     "output_type": "stream",
     "text": [
      "Loss: tensor(1.6170, device='cuda:0', grad_fn=<NllLossBackward0>)\n"
     ]
    },
    {
     "name": "stderr",
     "output_type": "stream",
     "text": [
      "Iteration: 473it [00:49,  9.56it/s]\n",
      "Epoch:  45%|████▌     | 9/20 [08:03<09:48, 53.54s/it]"
     ]
    },
    {
     "name": "stdout",
     "output_type": "stream",
     "text": [
      "Loss: tensor(1.9544, device='cuda:0', grad_fn=<NllLossBackward0>)\n"
     ]
    },
    {
     "name": "stderr",
     "output_type": "stream",
     "text": [
      "Iteration: 473it [00:50,  9.37it/s]\n",
      "Epoch:  50%|█████     | 10/20 [08:57<08:55, 53.58s/it]"
     ]
    },
    {
     "name": "stdout",
     "output_type": "stream",
     "text": [
      "Loss: tensor(1.6646, device='cuda:0', grad_fn=<NllLossBackward0>)\n"
     ]
    },
    {
     "name": "stderr",
     "output_type": "stream",
     "text": [
      "Iteration: 473it [00:49,  9.51it/s]\n",
      "Epoch:  55%|█████▌    | 11/20 [09:50<08:00, 53.34s/it]"
     ]
    },
    {
     "name": "stdout",
     "output_type": "stream",
     "text": [
      "Loss: tensor(1.6630, device='cuda:0', grad_fn=<NllLossBackward0>)\n"
     ]
    },
    {
     "name": "stderr",
     "output_type": "stream",
     "text": [
      "Iteration: 473it [00:49,  9.49it/s]\n",
      "Epoch:  60%|██████    | 12/20 [10:43<07:06, 53.32s/it]"
     ]
    },
    {
     "name": "stdout",
     "output_type": "stream",
     "text": [
      "Loss: tensor(1.8190, device='cuda:0', grad_fn=<NllLossBackward0>)\n"
     ]
    },
    {
     "name": "stderr",
     "output_type": "stream",
     "text": [
      "Iteration: 473it [00:51,  9.26it/s]\n",
      "Epoch:  65%|██████▌   | 13/20 [11:38<06:15, 53.71s/it]"
     ]
    },
    {
     "name": "stdout",
     "output_type": "stream",
     "text": [
      "Loss: tensor(1.5138, device='cuda:0', grad_fn=<NllLossBackward0>)\n"
     ]
    },
    {
     "name": "stderr",
     "output_type": "stream",
     "text": [
      "Iteration: 473it [00:49,  9.48it/s]\n",
      "Epoch:  70%|███████   | 14/20 [12:31<05:21, 53.51s/it]"
     ]
    },
    {
     "name": "stdout",
     "output_type": "stream",
     "text": [
      "Loss: tensor(2.0536, device='cuda:0', grad_fn=<NllLossBackward0>)\n"
     ]
    },
    {
     "name": "stderr",
     "output_type": "stream",
     "text": [
      "Iteration: 473it [00:53,  8.76it/s]\n",
      "Epoch:  75%|███████▌  | 15/20 [13:27<04:32, 54.45s/it]"
     ]
    },
    {
     "name": "stdout",
     "output_type": "stream",
     "text": [
      "Loss: tensor(1.6045, device='cuda:0', grad_fn=<NllLossBackward0>)\n"
     ]
    },
    {
     "name": "stderr",
     "output_type": "stream",
     "text": [
      "Iteration: 473it [00:53,  8.84it/s]\n",
      "Epoch:  80%|████████  | 16/20 [14:24<03:40, 55.08s/it]"
     ]
    },
    {
     "name": "stdout",
     "output_type": "stream",
     "text": [
      "Loss: tensor(1.7196, device='cuda:0', grad_fn=<NllLossBackward0>)\n"
     ]
    },
    {
     "name": "stderr",
     "output_type": "stream",
     "text": [
      "Iteration: 473it [00:51,  9.15it/s]\n",
      "Epoch:  85%|████████▌ | 17/20 [15:19<02:45, 55.01s/it]"
     ]
    },
    {
     "name": "stdout",
     "output_type": "stream",
     "text": [
      "Loss: tensor(1.7238, device='cuda:0', grad_fn=<NllLossBackward0>)\n"
     ]
    },
    {
     "name": "stderr",
     "output_type": "stream",
     "text": [
      "Iteration: 473it [00:51,  9.26it/s]\n",
      "Epoch:  90%|█████████ | 18/20 [16:13<01:49, 54.75s/it]"
     ]
    },
    {
     "name": "stdout",
     "output_type": "stream",
     "text": [
      "Loss: tensor(1.5829, device='cuda:0', grad_fn=<NllLossBackward0>)\n"
     ]
    },
    {
     "name": "stderr",
     "output_type": "stream",
     "text": [
      "Iteration: 473it [00:55,  8.56it/s]\n",
      "Epoch:  95%|█████████▌| 19/20 [17:11<00:55, 55.71s/it]"
     ]
    },
    {
     "name": "stdout",
     "output_type": "stream",
     "text": [
      "Loss: tensor(2.0995, device='cuda:0', grad_fn=<NllLossBackward0>)\n"
     ]
    },
    {
     "name": "stderr",
     "output_type": "stream",
     "text": [
      "Iteration: 473it [00:55,  8.58it/s]\n",
      "Epoch: 100%|██████████| 20/20 [18:10<00:00, 54.51s/it]\n"
     ]
    }
   ],
   "source": [
    "model, loss_history = train(train_dataset, \n",
    "                  model, \n",
    "                  batch_size=1,\n",
    "                  epochs=20, \n",
    "                  lr=2e-5,\n",
    "                  output_dir=MODEL_DIR,\n",
    "                  output_prefix=SAVED_MODEL_PREFIX,\n",
    "                  save_model_on_epoch=True,\n",
    "                  save_best_model=True\n",
    "                  )"
   ]
  },
  {
   "attachments": {},
   "cell_type": "markdown",
   "metadata": {},
   "source": [
    "# Visualizing the Data"
   ]
  },
  {
   "cell_type": "code",
   "execution_count": 8,
   "metadata": {},
   "outputs": [],
   "source": [
    "loss_history = np.array(loss_history)\n",
    "epoch_nums = np.arange(1, len(loss_history) + 1)"
   ]
  },
  {
   "cell_type": "code",
   "execution_count": 9,
   "metadata": {},
   "outputs": [
    {
     "data": {
      "text/plain": [
       "[<matplotlib.lines.Line2D at 0x7f047c0a8e20>]"
      ]
     },
     "execution_count": 9,
     "metadata": {},
     "output_type": "execute_result"
    },
    {
     "data": {
      "image/png": "[encoded data removed]",
      "text/plain": [
       "<Figure size 640x480 with 1 Axes>"
      ]
     },
     "metadata": {},
     "output_type": "display_data"
    }
   ],
   "source": [
    "plt.xlabel('Epoch #')\n",
    "plt.ylabel('Train Loss')\n",
    "plt.title('Train Loss v.s. Epoch # for GPT2')\n",
    "plt.plot(epoch_nums, loss_history)"
   ]
  },
  {
   "attachments": {},
   "cell_type": "markdown",
   "metadata": {},
   "source": [
    "# Importing Best Model"
   ]
  },
  {
   "cell_type": "code",
   "execution_count": 10,
   "metadata": {},
   "outputs": [
    {
     "data": {
      "text/plain": [
       "<All keys matched successfully>"
      ]
     },
     "execution_count": 10,
     "metadata": {},
     "output_type": "execute_result"
    }
   ],
   "source": [
    "tokenizer = GPT2Tokenizer.from_pretrained('gpt2')\n",
    "model = GPT2LMHeadModel.from_pretrained('gpt2')\n",
    "model.load_state_dict(torch.load('model_dir/bigboi-best-2.pt'))"
   ]
  },
  {
   "attachments": {},
   "cell_type": "markdown",
   "metadata": {},
   "source": [
    "# Comparing Best Model vs Regular GPT2 Accuracy using Auto-evaluation Metrics"
   ]
  },
  {
   "cell_type": "code",
   "execution_count": 11,
   "metadata": {},
   "outputs": [],
   "source": [
    "from nltk.translate import bleu_score, meteor_score, nist_score\n",
    "# perplexity, LSA"
   ]
  },
  {
   "cell_type": "code",
   "execution_count": 18,
   "metadata": {},
   "outputs": [],
   "source": [
    "regular_model = GPT2LMHeadModel.from_pretrained('gpt2')"
   ]
  },
  {
   "cell_type": "code",
   "execution_count": 19,
   "metadata": {},
   "outputs": [],
   "source": [
    "test_data = get_csv_data(os.path.join(DATA_DIR, 'test'))\n",
    "test_dataset = OSUSDataset(test_data, tokenizer, 1024) # OSUSDataset Obj"
   ]
  },
  {
   "cell_type": "code",
   "execution_count": 20,
   "metadata": {},
   "outputs": [],
   "source": [
    "def get_imposter_in_sentence(sentence: str):\n",
    "    sent_list = sentence.split('\\n')\n",
    "    for sent in sent_list:\n",
    "        if (sent.split('\\t')[1] == 'imposter'):\n",
    "            return sent.split('\\t')[0]\n",
    "        \n",
    "def get_dead_player(sentence: str):\n",
    "    remaining_players = ['Red', 'Green', 'Blue', 'Yellow']\n",
    "    sent_list = sentence.split('\\n')\n",
    "    for sent in sent_list[:3]:\n",
    "        remaining_players.remove(sent.split('\\t')[0])\n",
    "        \n",
    "    return remaining_players[0]\n",
    "        \n",
    "test_data_info = [(x.split('\\n')[0].split('\\t')[0], get_imposter_in_sentence(x), get_dead_player(x)) for x in test_data]"
   ]
  },
  {
   "cell_type": "code",
   "execution_count": 15,
   "metadata": {},
   "outputs": [
    {
     "name": "stderr",
     "output_type": "stream",
     "text": [
      "100%|██████████| 1/1 [00:04<00:00,  4.69s/it]\n",
      "100%|██████████| 1/1 [00:03<00:00,  3.29s/it]\n",
      "100%|██████████| 1/1 [00:05<00:00,  5.45s/it]\n",
      "100%|██████████| 1/1 [00:05<00:00,  5.36s/it]\n",
      "100%|██████████| 1/1 [00:06<00:00,  6.84s/it]\n",
      "100%|██████████| 1/1 [00:08<00:00,  8.13s/it]\n",
      "100%|██████████| 1/1 [00:08<00:00,  8.91s/it]\n",
      "100%|██████████| 1/1 [00:09<00:00,  9.86s/it]\n",
      "100%|██████████| 1/1 [00:11<00:00, 11.28s/it]\n",
      "100%|██████████| 1/1 [00:02<00:00,  2.97s/it]\n",
      "100%|██████████| 1/1 [00:03<00:00,  3.03s/it]\n",
      "100%|██████████| 1/1 [00:09<00:00,  9.69s/it]\n",
      "100%|██████████| 1/1 [00:08<00:00,  8.71s/it]\n",
      "100%|██████████| 1/1 [00:14<00:00, 14.51s/it]\n",
      "100%|██████████| 1/1 [00:13<00:00, 13.07s/it]\n",
      "100%|██████████| 1/1 [01:32<00:00, 92.29s/it]\n",
      "100%|██████████| 1/1 [00:59<00:00, 59.77s/it]\n",
      "100%|██████████| 1/1 [00:59<00:00, 59.65s/it]\n",
      "100%|██████████| 1/1 [00:04<00:00,  4.06s/it]\n",
      "100%|██████████| 1/1 [00:03<00:00,  3.06s/it]\n",
      "100%|██████████| 1/1 [00:05<00:00,  5.11s/it]\n",
      "100%|██████████| 1/1 [00:12<00:00, 12.13s/it]\n",
      "100%|██████████| 1/1 [00:06<00:00,  6.71s/it]\n",
      "100%|██████████| 1/1 [00:16<00:00, 16.95s/it]\n",
      "100%|██████████| 1/1 [00:09<00:00,  9.25s/it]\n",
      "100%|██████████| 1/1 [00:10<00:00, 10.37s/it]\n",
      "100%|██████████| 1/1 [00:11<00:00, 11.26s/it]\n",
      "100%|██████████| 1/1 [00:02<00:00,  2.39s/it]\n",
      "100%|██████████| 1/1 [00:04<00:00,  4.20s/it]\n",
      "100%|██████████| 1/1 [00:06<00:00,  6.25s/it]\n",
      "100%|██████████| 1/1 [00:07<00:00,  7.81s/it]\n",
      "100%|██████████| 1/1 [00:09<00:00,  9.81s/it]\n",
      "100%|██████████| 1/1 [00:11<00:00, 11.30s/it]\n",
      "100%|██████████| 1/1 [00:13<00:00, 13.43s/it]\n",
      "100%|██████████| 1/1 [00:15<00:00, 15.61s/it]\n",
      "100%|██████████| 1/1 [00:18<00:00, 18.39s/it]\n",
      "100%|██████████| 1/1 [00:01<00:00,  1.74s/it]\n",
      "100%|██████████| 1/1 [00:03<00:00,  3.42s/it]\n",
      "100%|██████████| 1/1 [00:06<00:00,  6.32s/it]\n",
      "100%|██████████| 1/1 [00:07<00:00,  7.68s/it]\n",
      "100%|██████████| 1/1 [00:10<00:00, 10.69s/it]\n",
      "100%|██████████| 1/1 [00:13<00:00, 13.01s/it]\n",
      "100%|██████████| 1/1 [00:15<00:00, 15.27s/it]\n",
      "100%|██████████| 1/1 [00:18<00:00, 18.42s/it]\n",
      "100%|██████████| 1/1 [00:21<00:00, 21.93s/it]\n",
      "100%|██████████| 1/1 [00:03<00:00,  3.74s/it]\n",
      "100%|██████████| 1/1 [00:07<00:00,  7.70s/it]\n",
      "100%|██████████| 1/1 [00:06<00:00,  6.36s/it]\n",
      "100%|██████████| 1/1 [00:07<00:00,  7.80s/it]\n",
      "100%|██████████| 1/1 [00:09<00:00,  9.79s/it]\n",
      "100%|██████████| 1/1 [00:10<00:00, 10.30s/it]\n",
      "100%|██████████| 1/1 [00:12<00:00, 12.44s/it]\n",
      "100%|██████████| 1/1 [00:14<00:00, 14.19s/it]\n",
      "100%|██████████| 1/1 [00:16<00:00, 16.85s/it]\n",
      "100%|██████████| 1/1 [00:04<00:00,  4.57s/it]\n",
      "100%|██████████| 1/1 [00:04<00:00,  4.42s/it]\n",
      "100%|██████████| 1/1 [00:08<00:00,  8.65s/it]\n",
      "100%|██████████| 1/1 [00:06<00:00,  6.74s/it]\n",
      "100%|██████████| 1/1 [00:08<00:00,  8.18s/it]\n",
      "100%|██████████| 1/1 [00:09<00:00,  9.25s/it]\n",
      "100%|██████████| 1/1 [00:10<00:00, 10.78s/it]\n",
      "100%|██████████| 1/1 [00:12<00:00, 12.35s/it]\n",
      "100%|██████████| 1/1 [00:13<00:00, 13.94s/it]\n",
      "100%|██████████| 1/1 [00:02<00:00,  2.50s/it]\n",
      "100%|██████████| 1/1 [00:04<00:00,  4.04s/it]\n",
      "100%|██████████| 1/1 [00:06<00:00,  6.07s/it]\n",
      "100%|██████████| 1/1 [00:05<00:00,  5.86s/it]\n",
      "100%|██████████| 1/1 [00:07<00:00,  7.02s/it]\n",
      "100%|██████████| 1/1 [00:06<00:00,  6.42s/it]\n",
      "100%|██████████| 1/1 [00:07<00:00,  7.75s/it]\n",
      "100%|██████████| 1/1 [00:08<00:00,  8.92s/it]\n",
      "100%|██████████| 1/1 [00:10<00:00, 10.05s/it]\n",
      "100%|██████████| 1/1 [00:06<00:00,  6.47s/it]\n",
      "100%|██████████| 1/1 [00:09<00:00,  9.72s/it]\n",
      "100%|██████████| 1/1 [00:15<00:00, 15.14s/it]\n",
      "100%|██████████| 1/1 [00:18<00:00, 18.58s/it]\n",
      "100%|██████████| 1/1 [00:25<00:00, 25.21s/it]\n",
      "100%|██████████| 1/1 [00:32<00:00, 32.83s/it]\n",
      "100%|██████████| 1/1 [00:38<00:00, 38.84s/it]\n",
      "100%|██████████| 1/1 [00:45<00:00, 45.84s/it]\n",
      "100%|██████████| 1/1 [00:54<00:00, 54.52s/it]\n",
      "100%|██████████| 1/1 [00:03<00:00,  3.01s/it]\n",
      "100%|██████████| 1/1 [00:04<00:00,  4.29s/it]\n",
      "100%|██████████| 1/1 [00:07<00:00,  7.33s/it]\n",
      "100%|██████████| 1/1 [00:07<00:00,  7.09s/it]\n",
      "100%|██████████| 1/1 [00:09<00:00,  9.65s/it]\n",
      "100%|██████████| 1/1 [00:12<00:00, 12.03s/it]\n",
      "100%|██████████| 1/1 [00:13<00:00, 13.30s/it]\n",
      "100%|██████████| 1/1 [00:15<00:00, 15.56s/it]\n",
      "100%|██████████| 1/1 [00:18<00:00, 18.10s/it]\n",
      "100%|██████████| 1/1 [00:01<00:00,  1.99s/it]\n",
      "100%|██████████| 1/1 [00:03<00:00,  3.37s/it]\n",
      "100%|██████████| 1/1 [00:04<00:00,  4.32s/it]\n",
      "100%|██████████| 1/1 [00:06<00:00,  6.87s/it]\n",
      "100%|██████████| 1/1 [00:10<00:00, 10.31s/it]\n",
      "100%|██████████| 1/1 [00:12<00:00, 12.50s/it]\n",
      "100%|██████████| 1/1 [00:15<00:00, 15.24s/it]\n",
      "100%|██████████| 1/1 [00:18<00:00, 18.60s/it]\n",
      "100%|██████████| 1/1 [00:22<00:00, 22.23s/it]\n",
      "100%|██████████| 1/1 [00:02<00:00,  2.14s/it]\n",
      "100%|██████████| 1/1 [00:03<00:00,  3.44s/it]\n",
      "100%|██████████| 1/1 [00:05<00:00,  5.45s/it]\n",
      "100%|██████████| 1/1 [00:06<00:00,  6.81s/it]\n",
      "100%|██████████| 1/1 [00:07<00:00,  7.36s/it]\n",
      "100%|██████████| 1/1 [00:12<00:00, 12.23s/it]\n",
      "100%|██████████| 1/1 [00:14<00:00, 14.12s/it]\n",
      "100%|██████████| 1/1 [00:16<00:00, 16.82s/it]\n",
      "100%|██████████| 1/1 [00:20<00:00, 20.10s/it]\n",
      "100%|██████████| 1/1 [00:02<00:00,  2.36s/it]\n",
      "100%|██████████| 1/1 [00:02<00:00,  2.40s/it]\n",
      "100%|██████████| 1/1 [00:05<00:00,  5.00s/it]\n",
      "100%|██████████| 1/1 [00:06<00:00,  6.47s/it]\n",
      "100%|██████████| 1/1 [00:09<00:00,  9.39s/it]\n",
      "100%|██████████| 1/1 [00:09<00:00,  9.22s/it]\n",
      "100%|██████████| 1/1 [00:12<00:00, 12.07s/it]\n",
      "100%|██████████| 1/1 [00:14<00:00, 14.30s/it]\n",
      "100%|██████████| 1/1 [00:16<00:00, 16.67s/it]\n",
      "100%|██████████| 1/1 [00:04<00:00,  4.28s/it]\n",
      "100%|██████████| 1/1 [00:07<00:00,  8.00s/it]\n",
      "100%|██████████| 1/1 [00:08<00:00,  8.75s/it]\n",
      "100%|██████████| 1/1 [00:11<00:00, 11.30s/it]\n",
      "100%|██████████| 1/1 [00:13<00:00, 13.80s/it]\n",
      "100%|██████████| 1/1 [00:16<00:00, 16.78s/it]\n",
      "100%|██████████| 1/1 [00:19<00:00, 19.57s/it]\n",
      "100%|██████████| 1/1 [00:23<00:00, 23.62s/it]\n",
      "100%|██████████| 1/1 [00:27<00:00, 27.08s/it]\n",
      "100%|██████████| 1/1 [00:05<00:00,  5.23s/it]\n",
      "100%|██████████| 1/1 [00:05<00:00,  5.45s/it]\n",
      "100%|██████████| 1/1 [00:13<00:00, 13.94s/it]\n",
      "100%|██████████| 1/1 [00:15<00:00, 15.23s/it]\n",
      "100%|██████████| 1/1 [00:25<00:00, 25.78s/it]\n",
      "100%|██████████| 1/1 [00:43<00:00, 43.71s/it]\n",
      "100%|██████████| 1/1 [01:37<00:00, 97.17s/it]\n",
      "100%|██████████| 1/1 [02:56<00:00, 176.72s/it]\n",
      "100%|██████████| 1/1 [02:44<00:00, 164.93s/it]\n",
      "100%|██████████| 1/1 [00:02<00:00,  3.00s/it]\n",
      "100%|██████████| 1/1 [00:01<00:00,  1.46s/it]\n",
      "100%|██████████| 1/1 [00:01<00:00,  1.62s/it]\n",
      "100%|██████████| 1/1 [00:03<00:00,  3.38s/it]\n",
      "100%|██████████| 1/1 [00:03<00:00,  3.32s/it]\n",
      "100%|██████████| 1/1 [39:31<00:00, 2371.29s/it]\n",
      "100%|██████████| 1/1 [00:06<00:00,  6.55s/it]\n",
      "100%|██████████| 1/1 [00:06<00:00,  6.45s/it]\n",
      "100%|██████████| 1/1 [00:06<00:00,  6.38s/it]\n",
      "100%|██████████| 1/1 [00:02<00:00,  2.99s/it]\n",
      "100%|██████████| 1/1 [00:03<00:00,  3.38s/it]\n",
      "100%|██████████| 1/1 [00:06<00:00,  6.36s/it]\n",
      "100%|██████████| 1/1 [00:05<00:00,  5.50s/it]\n",
      "100%|██████████| 1/1 [00:06<00:00,  6.57s/it]\n",
      "100%|██████████| 1/1 [00:08<00:00,  8.04s/it]\n",
      "100%|██████████| 1/1 [00:09<00:00,  9.05s/it]\n",
      "100%|██████████| 1/1 [00:10<00:00, 10.66s/it]\n",
      "100%|██████████| 1/1 [00:12<00:00, 12.03s/it]\n",
      "100%|██████████| 1/1 [00:05<00:00,  5.07s/it]\n",
      "100%|██████████| 1/1 [00:07<00:00,  7.77s/it]\n",
      "100%|██████████| 1/1 [00:10<00:00, 10.47s/it]\n",
      "100%|██████████| 1/1 [00:14<00:00, 14.33s/it]\n",
      "100%|██████████| 1/1 [00:16<00:00, 16.96s/it]\n",
      "100%|██████████| 1/1 [00:20<00:00, 20.83s/it]\n",
      "100%|██████████| 1/1 [00:25<00:00, 25.24s/it]\n",
      "100%|██████████| 1/1 [00:30<00:00, 30.88s/it]\n",
      "100%|██████████| 1/1 [00:35<00:00, 35.62s/it]\n",
      "100%|██████████| 1/1 [00:03<00:00,  3.93s/it]\n",
      "100%|██████████| 1/1 [00:06<00:00,  6.98s/it]\n",
      "100%|██████████| 1/1 [00:09<00:00,  9.68s/it]\n",
      "100%|██████████| 1/1 [00:12<00:00, 12.81s/it]\n",
      "100%|██████████| 1/1 [00:15<00:00, 15.72s/it]\n",
      "100%|██████████| 1/1 [00:19<00:00, 19.43s/it]\n",
      "100%|██████████| 1/1 [00:22<00:00, 22.96s/it]\n",
      "100%|██████████| 1/1 [00:28<00:00, 28.21s/it]\n",
      "100%|██████████| 1/1 [00:32<00:00, 32.95s/it]\n",
      "100%|██████████| 1/1 [00:04<00:00,  4.24s/it]\n",
      "100%|██████████| 1/1 [00:08<00:00,  8.26s/it]\n",
      "100%|██████████| 1/1 [00:12<00:00, 12.08s/it]\n",
      "100%|██████████| 1/1 [00:12<00:00, 12.50s/it]\n",
      "100%|██████████| 1/1 [00:17<00:00, 17.36s/it]\n",
      "100%|██████████| 1/1 [00:21<00:00, 21.33s/it]\n",
      "100%|██████████| 1/1 [00:26<00:00, 26.32s/it]\n",
      "100%|██████████| 1/1 [00:31<00:00, 31.70s/it]\n",
      "100%|██████████| 1/1 [00:36<00:00, 36.29s/it]\n",
      "100%|██████████| 1/1 [00:04<00:00,  4.05s/it]\n",
      "100%|██████████| 1/1 [00:03<00:00,  3.30s/it]\n",
      "100%|██████████| 1/1 [00:05<00:00,  5.16s/it]\n",
      "100%|██████████| 1/1 [00:05<00:00,  5.34s/it]\n",
      "100%|██████████| 1/1 [00:08<00:00,  8.68s/it]\n",
      "100%|██████████| 1/1 [00:09<00:00,  9.84s/it]\n",
      "100%|██████████| 1/1 [00:10<00:00, 10.78s/it]\n",
      "100%|██████████| 1/1 [00:12<00:00, 12.49s/it]\n",
      "100%|██████████| 1/1 [00:14<00:00, 14.16s/it]\n",
      "100%|██████████| 1/1 [00:03<00:00,  3.83s/it]\n",
      "100%|██████████| 1/1 [00:06<00:00,  6.97s/it]\n",
      "100%|██████████| 1/1 [00:10<00:00, 10.47s/it]\n",
      "100%|██████████| 1/1 [00:13<00:00, 13.92s/it]\n",
      "100%|██████████| 1/1 [00:12<00:00, 12.36s/it]\n",
      "100%|██████████| 1/1 [00:20<00:00, 20.67s/it]\n",
      "100%|██████████| 1/1 [00:25<00:00, 25.62s/it]\n",
      "100%|██████████| 1/1 [00:31<00:00, 31.18s/it]\n",
      "100%|██████████| 1/1 [00:35<00:00, 35.92s/it]\n",
      "100%|██████████| 1/1 [00:02<00:00,  2.47s/it]\n",
      "100%|██████████| 1/1 [00:03<00:00,  3.46s/it]\n",
      "100%|██████████| 1/1 [00:06<00:00,  6.07s/it]\n",
      "100%|██████████| 1/1 [00:08<00:00,  8.18s/it]\n",
      "100%|██████████| 1/1 [00:09<00:00,  9.51s/it]\n",
      "100%|██████████| 1/1 [00:11<00:00, 11.58s/it]\n",
      "100%|██████████| 1/1 [00:10<00:00, 10.62s/it]\n",
      "100%|██████████| 1/1 [00:11<00:00, 11.76s/it]\n",
      "100%|██████████| 1/1 [00:13<00:00, 13.64s/it]\n",
      "100%|██████████| 1/1 [00:04<00:00,  4.30s/it]\n",
      "100%|██████████| 1/1 [00:05<00:00,  5.25s/it]\n",
      "100%|██████████| 1/1 [00:07<00:00,  7.11s/it]\n",
      "100%|██████████| 1/1 [00:09<00:00,  9.02s/it]\n",
      "100%|██████████| 1/1 [00:10<00:00, 10.89s/it]\n",
      "100%|██████████| 1/1 [00:12<00:00, 12.33s/it]\n",
      "100%|██████████| 1/1 [00:14<00:00, 14.37s/it]\n",
      "100%|██████████| 1/1 [00:16<00:00, 16.20s/it]\n",
      "100%|██████████| 1/1 [00:19<00:00, 19.39s/it]\n",
      "100%|██████████| 1/1 [00:02<00:00,  2.22s/it]\n",
      "100%|██████████| 1/1 [00:03<00:00,  3.23s/it]\n",
      "100%|██████████| 1/1 [00:03<00:00,  3.45s/it]\n",
      "100%|██████████| 1/1 [00:05<00:00,  5.13s/it]\n",
      "100%|██████████| 1/1 [00:06<00:00,  6.19s/it]\n",
      "100%|██████████| 1/1 [00:07<00:00,  7.51s/it]\n",
      "100%|██████████| 1/1 [00:08<00:00,  8.70s/it]\n",
      "100%|██████████| 1/1 [00:09<00:00,  9.82s/it]\n",
      "100%|██████████| 1/1 [00:11<00:00, 11.57s/it]\n",
      "100%|██████████| 1/1 [00:03<00:00,  3.33s/it]\n",
      "100%|██████████| 1/1 [00:04<00:00,  4.50s/it]\n",
      "100%|██████████| 1/1 [00:06<00:00,  6.39s/it]\n",
      "100%|██████████| 1/1 [00:05<00:00,  5.87s/it]\n",
      "100%|██████████| 1/1 [00:07<00:00,  7.02s/it]\n",
      "100%|██████████| 1/1 [00:08<00:00,  8.06s/it]\n",
      "100%|██████████| 1/1 [00:09<00:00,  9.11s/it]\n",
      "100%|██████████| 1/1 [00:10<00:00, 10.26s/it]\n",
      "100%|██████████| 1/1 [00:11<00:00, 11.63s/it]\n",
      "100%|██████████| 1/1 [00:03<00:00,  3.00s/it]\n",
      "100%|██████████| 1/1 [00:06<00:00,  6.85s/it]\n",
      "100%|██████████| 1/1 [00:23<00:00, 23.48s/it]\n",
      "100%|██████████| 1/1 [00:15<00:00, 15.87s/it]\n",
      "100%|██████████| 1/1 [00:21<00:00, 21.74s/it]\n",
      "100%|██████████| 1/1 [00:25<00:00, 25.74s/it]\n",
      "100%|██████████| 1/1 [00:32<00:00, 32.14s/it]\n",
      "100%|██████████| 1/1 [00:35<00:00, 35.75s/it]\n",
      "100%|██████████| 1/1 [00:40<00:00, 40.51s/it]\n",
      "100%|██████████| 1/1 [00:03<00:00,  3.95s/it]\n",
      "100%|██████████| 1/1 [00:03<00:00,  3.67s/it]\n",
      "100%|██████████| 1/1 [00:05<00:00,  5.12s/it]\n",
      "100%|██████████| 1/1 [00:05<00:00,  5.33s/it]\n",
      "100%|██████████| 1/1 [00:07<00:00,  7.42s/it]\n",
      "100%|██████████| 1/1 [00:08<00:00,  8.43s/it]\n",
      "100%|██████████| 1/1 [00:08<00:00,  8.87s/it]\n",
      "100%|██████████| 1/1 [00:11<00:00, 11.24s/it]\n",
      "100%|██████████| 1/1 [00:12<00:00, 12.84s/it]\n",
      "100%|██████████| 1/1 [00:02<00:00,  2.92s/it]\n",
      "100%|██████████| 1/1 [00:04<00:00,  4.39s/it]\n",
      "100%|██████████| 1/1 [00:03<00:00,  3.77s/it]\n",
      "100%|██████████| 1/1 [00:08<00:00,  8.07s/it]\n",
      "100%|██████████| 1/1 [00:13<00:00, 13.01s/it]\n",
      "100%|██████████| 1/1 [00:14<00:00, 14.70s/it]\n",
      "100%|██████████| 1/1 [00:15<00:00, 15.85s/it]\n",
      "100%|██████████| 1/1 [00:19<00:00, 19.04s/it]\n",
      "100%|██████████| 1/1 [00:21<00:00, 21.94s/it]\n",
      "100%|██████████| 1/1 [00:01<00:00,  1.11s/it]\n",
      "100%|██████████| 1/1 [00:03<00:00,  3.39s/it]\n",
      "100%|██████████| 1/1 [00:03<00:00,  3.92s/it]\n",
      "100%|██████████| 1/1 [00:08<00:00,  8.36s/it]\n",
      "100%|██████████| 1/1 [00:07<00:00,  7.12s/it]\n",
      "100%|██████████| 1/1 [00:13<00:00, 13.07s/it]\n",
      "100%|██████████| 1/1 [00:15<00:00, 15.44s/it]\n",
      "100%|██████████| 1/1 [00:18<00:00, 18.80s/it]\n",
      "100%|██████████| 1/1 [00:22<00:00, 22.63s/it]\n",
      "100%|██████████| 1/1 [00:07<00:00,  7.20s/it]\n",
      "100%|██████████| 1/1 [00:09<00:00,  9.44s/it]\n",
      "100%|██████████| 1/1 [00:13<00:00, 13.87s/it]\n",
      "100%|██████████| 1/1 [00:16<00:00, 16.38s/it]\n",
      "100%|██████████| 1/1 [00:21<00:00, 21.25s/it]\n",
      "100%|██████████| 1/1 [00:26<00:00, 26.59s/it]\n",
      "100%|██████████| 1/1 [00:33<00:00, 33.41s/it]\n",
      "100%|██████████| 1/1 [00:38<00:00, 38.19s/it]\n",
      "100%|██████████| 1/1 [00:44<00:00, 44.04s/it]\n",
      "100%|██████████| 1/1 [00:07<00:00,  7.53s/it]\n",
      "100%|██████████| 1/1 [00:05<00:00,  5.52s/it]\n",
      "100%|██████████| 1/1 [00:10<00:00, 10.51s/it]\n",
      "100%|██████████| 1/1 [00:11<00:00, 11.19s/it]\n",
      "100%|██████████| 1/1 [00:17<00:00, 17.38s/it]\n",
      "100%|██████████| 1/1 [01:30<00:00, 90.60s/it]\n",
      "100%|██████████| 1/1 [00:46<00:00, 46.04s/it]\n",
      "100%|██████████| 1/1 [00:54<00:00, 54.65s/it]\n",
      "100%|██████████| 1/1 [01:03<00:00, 63.70s/it]\n",
      "100%|██████████| 1/1 [00:03<00:00,  3.02s/it]\n",
      "100%|██████████| 1/1 [00:05<00:00,  5.73s/it]\n",
      "100%|██████████| 1/1 [00:08<00:00,  8.49s/it]\n",
      "100%|██████████| 1/1 [00:13<00:00, 13.55s/it]\n",
      "100%|██████████| 1/1 [00:17<00:00, 17.48s/it]\n",
      "100%|██████████| 1/1 [00:21<00:00, 21.98s/it]\n",
      "100%|██████████| 1/1 [00:27<00:00, 27.80s/it]\n",
      "100%|██████████| 1/1 [00:37<00:00, 37.20s/it]\n",
      "100%|██████████| 1/1 [00:48<00:00, 48.36s/it]\n",
      "100%|██████████| 1/1 [00:04<00:00,  4.94s/it]\n",
      "100%|██████████| 1/1 [00:05<00:00,  5.75s/it]\n",
      "100%|██████████| 1/1 [00:06<00:00,  6.28s/it]\n",
      "100%|██████████| 1/1 [00:06<00:00,  6.53s/it]\n",
      "100%|██████████| 1/1 [00:08<00:00,  8.33s/it]\n",
      "100%|██████████| 1/1 [00:09<00:00,  9.80s/it]\n",
      "100%|██████████| 1/1 [00:11<00:00, 11.09s/it]\n",
      "100%|██████████| 1/1 [00:12<00:00, 12.43s/it]\n",
      "100%|██████████| 1/1 [00:14<00:00, 14.04s/it]\n"
     ]
    }
   ],
   "source": [
    "generated_test_data = [generate_conversation(model, tokenizer, x[0], x[1], x[2]) for x in test_data_info]"
   ]
  },
  {
   "cell_type": "code",
   "execution_count": 16,
   "metadata": {},
   "outputs": [],
   "source": [
    "bleu_scores = [bleu_score.sentence_bleu([' '.join(' '.join(test_point.split('\\n')).split('\\t'))], ' '.join(' '.join(gen_point.split('\\n')).split('\\t'))) for test_point, gen_point in zip(test_data, generated_test_data)]\n",
    "nist_scores = [nist_score.sentence_nist([' '.join(' '.join(test_point.split('\\n')).split('\\t'))], ' '.join(' '.join(gen_point.split('\\n')).split('\\t'))) for test_point, gen_point in zip(test_data, generated_test_data)]\n",
    "meteor_scores = [meteor_score.meteor_score([' '.join(' '.join(test_point.split('\\n')).split('\\t')).split(' ')], ' '.join(' '.join(gen_point.split('\\n')).split('\\t')).split(' ')) for test_point, gen_point in zip(test_data, generated_test_data)]"
   ]
  },
  {
   "cell_type": "code",
   "execution_count": 17,
   "metadata": {},
   "outputs": [
    {
     "name": "stdout",
     "output_type": "stream",
     "text": [
      "Avg. Bleu Score: 0.3803303417370919\n",
      "Avg. Nist Score: 4.274787529730134\n",
      "Avg. Meteor Score: 0.20351046487047342\n"
     ]
    }
   ],
   "source": [
    "print('Avg. Bleu Score:', sum(bleu_scores) / len(bleu_scores))\n",
    "print('Avg. Nist Score:', sum(nist_scores) / len(nist_scores))\n",
    "print('Avg. Meteor Score:', sum(meteor_scores) / len(meteor_scores))"
   ]
  },
  {
   "cell_type": "code",
   "execution_count": 21,
   "metadata": {},
   "outputs": [
    {
     "name": "stderr",
     "output_type": "stream",
     "text": [
      "100%|██████████| 1/1 [00:00<00:00,  1.33it/s]\n",
      "100%|██████████| 1/1 [00:00<00:00,  1.46it/s]\n",
      "100%|██████████| 1/1 [00:03<00:00,  3.10s/it]\n",
      "100%|██████████| 1/1 [00:00<00:00,  1.45it/s]\n",
      "100%|██████████| 1/1 [00:01<00:00,  1.90s/it]\n",
      "100%|██████████| 1/1 [00:01<00:00,  1.54s/it]\n",
      "100%|██████████| 1/1 [00:01<00:00,  1.74s/it]\n",
      "100%|██████████| 1/1 [00:01<00:00,  1.44s/it]\n",
      "100%|██████████| 1/1 [00:23<00:00, 23.29s/it]\n",
      "100%|██████████| 1/1 [00:02<00:00,  2.62s/it]\n",
      "100%|██████████| 1/1 [00:03<00:00,  3.73s/it]\n",
      "100%|██████████| 1/1 [00:02<00:00,  2.73s/it]\n",
      "100%|██████████| 1/1 [00:01<00:00,  1.11s/it]\n",
      "100%|██████████| 1/1 [00:00<00:00,  2.09it/s]\n",
      "100%|██████████| 1/1 [00:24<00:00, 24.69s/it]\n",
      "100%|██████████| 1/1 [00:01<00:00,  1.26s/it]\n",
      "100%|██████████| 1/1 [00:01<00:00,  1.67s/it]\n",
      "100%|██████████| 1/1 [00:01<00:00,  1.13s/it]\n",
      "100%|██████████| 1/1 [00:01<00:00,  1.26s/it]\n",
      "100%|██████████| 1/1 [00:01<00:00,  1.29s/it]\n",
      "100%|██████████| 1/1 [00:00<00:00,  1.13it/s]\n",
      "100%|██████████| 1/1 [00:00<00:00,  1.51it/s]\n",
      "100%|██████████| 1/1 [00:00<00:00,  1.76it/s]\n",
      "100%|██████████| 1/1 [00:00<00:00,  1.11it/s]\n",
      "100%|██████████| 1/1 [00:02<00:00,  2.10s/it]\n",
      "100%|██████████| 1/1 [00:00<00:00,  1.39it/s]\n",
      "100%|██████████| 1/1 [00:01<00:00,  1.01s/it]\n",
      "100%|██████████| 1/1 [00:01<00:00,  1.65s/it]\n",
      "100%|██████████| 1/1 [00:04<00:00,  4.73s/it]\n",
      "100%|██████████| 1/1 [00:01<00:00,  1.42s/it]\n",
      "100%|██████████| 1/1 [00:00<00:00,  3.12it/s]\n",
      "100%|██████████| 1/1 [00:06<00:00,  6.21s/it]\n",
      "100%|██████████| 1/1 [00:01<00:00,  1.51s/it]\n",
      "100%|██████████| 1/1 [00:00<00:00,  1.12it/s]\n",
      "100%|██████████| 1/1 [00:00<00:00,  2.42it/s]\n",
      "100%|██████████| 1/1 [00:03<00:00,  3.06s/it]\n",
      "100%|██████████| 1/1 [00:04<00:00,  4.77s/it]\n",
      "100%|██████████| 1/1 [00:00<00:00,  5.48it/s]\n",
      "100%|██████████| 1/1 [00:01<00:00,  1.19s/it]\n",
      "100%|██████████| 1/1 [00:01<00:00,  1.16s/it]\n",
      "100%|██████████| 1/1 [00:00<00:00,  3.16it/s]\n",
      "100%|██████████| 1/1 [00:03<00:00,  3.99s/it]\n",
      "100%|██████████| 1/1 [00:01<00:00,  1.22s/it]\n",
      "100%|██████████| 1/1 [00:01<00:00,  1.68s/it]\n",
      "100%|██████████| 1/1 [00:01<00:00,  1.52s/it]\n",
      "100%|██████████| 1/1 [00:09<00:00,  9.37s/it]\n",
      "100%|██████████| 1/1 [00:00<00:00,  1.54it/s]\n",
      "100%|██████████| 1/1 [00:01<00:00,  1.31s/it]\n",
      "100%|██████████| 1/1 [00:02<00:00,  2.81s/it]\n",
      "100%|██████████| 1/1 [00:00<00:00,  1.11it/s]\n",
      "100%|██████████| 1/1 [00:02<00:00,  2.31s/it]\n",
      "100%|██████████| 1/1 [00:00<00:00,  1.67it/s]\n",
      "100%|██████████| 1/1 [00:00<00:00,  1.95it/s]\n",
      "100%|██████████| 1/1 [00:02<00:00,  2.49s/it]\n",
      "100%|██████████| 1/1 [00:02<00:00,  2.28s/it]\n",
      "100%|██████████| 1/1 [00:01<00:00,  1.08s/it]\n",
      "100%|██████████| 1/1 [00:02<00:00,  2.71s/it]\n",
      "100%|██████████| 1/1 [00:00<00:00,  2.13it/s]\n",
      "100%|██████████| 1/1 [00:00<00:00,  2.43it/s]\n",
      "100%|██████████| 1/1 [00:00<00:00,  1.07it/s]\n",
      "100%|██████████| 1/1 [00:00<00:00,  1.23it/s]\n",
      "100%|██████████| 1/1 [00:01<00:00,  1.36s/it]\n",
      "100%|██████████| 1/1 [00:00<00:00,  1.77it/s]\n",
      "100%|██████████| 1/1 [00:01<00:00,  1.41s/it]\n",
      "100%|██████████| 1/1 [00:00<00:00,  1.27it/s]\n",
      "100%|██████████| 1/1 [00:00<00:00,  1.81it/s]\n",
      "100%|██████████| 1/1 [00:01<00:00,  1.81s/it]\n",
      "100%|██████████| 1/1 [00:01<00:00,  1.99s/it]\n",
      "100%|██████████| 1/1 [00:24<00:00, 24.80s/it]\n",
      "100%|██████████| 1/1 [00:00<00:00,  1.47it/s]\n",
      "100%|██████████| 1/1 [00:01<00:00,  1.75s/it]\n",
      "100%|██████████| 1/1 [00:00<00:00,  1.83it/s]\n",
      "100%|██████████| 1/1 [00:00<00:00,  3.07it/s]\n",
      "100%|██████████| 1/1 [00:04<00:00,  4.24s/it]\n",
      "100%|██████████| 1/1 [00:00<00:00,  2.41it/s]\n",
      "100%|██████████| 1/1 [00:02<00:00,  2.85s/it]\n",
      "100%|██████████| 1/1 [00:01<00:00,  1.45s/it]\n",
      "100%|██████████| 1/1 [00:03<00:00,  3.40s/it]\n",
      "100%|██████████| 1/1 [00:03<00:00,  3.25s/it]\n",
      "100%|██████████| 1/1 [00:00<00:00,  1.55it/s]\n",
      "100%|██████████| 1/1 [00:00<00:00,  1.33it/s]\n",
      "100%|██████████| 1/1 [00:00<00:00,  1.68it/s]\n",
      "100%|██████████| 1/1 [00:02<00:00,  2.49s/it]\n",
      "100%|██████████| 1/1 [00:00<00:00,  1.26it/s]\n",
      "100%|██████████| 1/1 [00:00<00:00,  1.21it/s]\n",
      "100%|██████████| 1/1 [00:02<00:00,  2.78s/it]\n",
      "100%|██████████| 1/1 [00:01<00:00,  1.77s/it]\n",
      "100%|██████████| 1/1 [00:00<00:00,  1.88it/s]\n",
      "100%|██████████| 1/1 [00:03<00:00,  3.80s/it]\n",
      "100%|██████████| 1/1 [00:00<00:00,  4.06it/s]\n"
     ]
    }
   ],
   "source": [
    "generated_test_data_base_model = [generate_conversation_base_model(regular_model, tokenizer, x[0], x[1], x[2]) for x in test_data_info]"
   ]
  },
  {
   "cell_type": "code",
   "execution_count": 22,
   "metadata": {},
   "outputs": [],
   "source": [
    "bleu_scores_base = [bleu_score.sentence_bleu([' '.join(' '.join(test_point.split('\\n')).split('\\t'))], ' '.join(' '.join(gen_point.split('\\n')).split('\\t'))) for test_point, gen_point in zip(test_data, generated_test_data_base_model)]\n",
    "nist_scores_base = [nist_score.sentence_nist([' '.join(' '.join(test_point.split('\\n')).split('\\t'))], ' '.join(' '.join(gen_point.split('\\n')).split('\\t'))) for test_point, gen_point in zip(test_data, generated_test_data_base_model)]\n",
    "meteor_scores_base = [meteor_score.meteor_score([' '.join(' '.join(test_point.split('\\n')).split('\\t')).split(' ')], ' '.join(' '.join(gen_point.split('\\n')).split('\\t')).split(' ')) for test_point, gen_point in zip(test_data, generated_test_data_base_model)]"
   ]
  },
  {
   "cell_type": "code",
   "execution_count": 23,
   "metadata": {},
   "outputs": [
    {
     "name": "stdout",
     "output_type": "stream",
     "text": [
      "Avg. Bleu Score: 0.1344068345739159\n",
      "Avg. Nist Score: 0.6807598465835745\n",
      "Avg. Meteor Score: 0.12838766810720675\n"
     ]
    }
   ],
   "source": [
    "print('Avg. Bleu Score:', sum(bleu_scores_base) / len(bleu_scores_base))\n",
    "print('Avg. Nist Score:', sum(nist_scores_base) / len(nist_scores_base))\n",
    "print('Avg. Meteor Score:', sum(meteor_scores_base) / len(meteor_scores_base))"
   ]
  },
  {
   "cell_type": "code",
   "execution_count": 16,
   "metadata": {},
   "outputs": [
    {
     "name": "stderr",
     "output_type": "stream",
     "text": [
      "100%|██████████| 1/1 [00:00<00:00,  1.09it/s]\n",
      "100%|██████████| 1/1 [00:07<00:00,  7.81s/it]\n",
      "100%|██████████| 1/1 [00:01<00:00,  1.88s/it]\n",
      "100%|██████████| 1/1 [00:03<00:00,  3.26s/it]\n",
      "100%|██████████| 1/1 [00:07<00:00,  7.64s/it]\n",
      "100%|██████████| 1/1 [00:26<00:00, 26.44s/it]\n",
      "100%|██████████| 1/1 [00:00<00:00,  2.37it/s]\n",
      "100%|██████████| 1/1 [00:02<00:00,  2.15s/it]\n",
      "100%|██████████| 1/1 [00:23<00:00, 23.88s/it]\n"
     ]
    },
    {
     "data": {
      "text/plain": [
       "\"Red\\tcrewmate\\tI didn't know you were there, but I'm glad I didn't.\\nGreen\\tcrewmate\\tI'm not a fan of walking around with a toy on my person, but I think the fact that the developers were careful enough to not give me any specific information before making my decision doesn't make me an anti-gamer. But I think that's a fair point and I agree with Hanayama that it's important to be clear about what we're saying and keeping the conversation civil. I have a lot of respect for the devs and they didn't provide any information before making the decision.\\nBlue\\timposter\\tKiller Whale!\\nRed\\tcrewmate\\tYou think I'm a rednecks chump?\\nGreen\\tcrewmate\\tI think I'm in my early thirties. I think I'm being careful with my brain. I don't have a clue who I am, but I'm good. I was just getting off a flight and I didn't see anyone around. It's unfortunate, but I'm just doing my job and I'm not drunk or anything. I'm not doing anything bad, so I'm fine.\\nBlue\\timposter\\tAh, well, I understand that I might not be able to prove my innocence, but I don't think I can go back to the situation I was in, and I'll try to figure out what's going on before I head back to the castle. I'll try my best to understand the situation and help the princess if necessary. But I swear that I didn't do anything wrong, and I didn't steal anything from anyone. As for who did it, I'm not sure, but I think I know who did it, so I don't want to accuse anyone. Let's see if anyone else can give me the details. I have no idea who did this, but I can assure you, it's not me. As for who I saw, I think it's just a bunch of lazy little girls in an alleyway. I think it's safe to say that I'm not the one responsible.\\n\\nRed\\tcrewmate\\tWow, that's insane!\\nGreen\\tcrewmate\\tI love the concept of an intergalactic universe. I really think it's cool. But I don't think that's the only thing I love about it.\\nBlue\\timposter\\tThis is the moment I was arrested for smoking weed in a private area of an upscale neighbourhood. I was driving down the street in a black pickup truck. I was doing my duties when I was struck by a car and I was being followed. I was in my car with my hands up. I did not say anything and I didn't want anyone to know. I was doing my duties. I didn't see anyone else around the area or around the intersection. I didn't want anyone to know that I was doing something that was illegal. I am not saying I was doing anything to be an innocent bystander. But I have to admit, I was in my vehicle when I was struck. I was in a different area when I was struck and I did not see anyone else around the area. I didn't want anyone to know that I was acting in self defense. I am going to keep doing my duties as a civilian and let the world know that I was not acting in self defense<|endoftext|>\\n\""
      ]
     },
     "execution_count": 16,
     "metadata": {},
     "output_type": "execute_result"
    }
   ],
   "source": [
    "generate_conversation_base_model(model, tokenizer, 'Red', 'Blue', 'Yellow')"
   ]
  }
 ],
 "metadata": {
  "kernelspec": {
   "display_name": "base",
   "language": "python",
   "name": "python3"
  },
  "language_info": {
   "codemirror_mode": {
    "name": "ipython",
    "version": 3
   },
   "file_extension": ".py",
   "mimetype": "text/x-python",
   "name": "python",
   "nbconvert_exporter": "python",
   "pygments_lexer": "ipython3",
   "version": "3.9.13"
  },
  "orig_nbformat": 4
 },
 "nbformat": 4,
 "nbformat_minor": 2
}
