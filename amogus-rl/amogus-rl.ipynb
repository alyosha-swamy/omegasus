{
 "cells": [
  {
   "cell_type": "code",
   "execution_count": null,
   "metadata": {},
   "outputs": [
    {
     "ename": "",
     "evalue": "",
     "output_type": "error",
     "traceback": [
      "\u001b[1;31mThe kernel failed to start due to the missing module 'prompt_toolkit.formatted_text'. Consider installing this module.\n",
      "\u001b[1;31mClick <a href='https://aka.ms/kernelFailuresMissingModule'>here</a> for more info."
     ]
    }
   ],
   "source": [
    "import numpy as np\n",
    "from torch.utils.tensorboard.writer import SummaryWriter\n",
    "from dataclasses import dataclass\n",
    "import concurrent.futures\n",
    "from collections import defaultdict\n",
    "import typing\n",
    "from torch import optim\n",
    "import torch\n",
    "import os\n",
    "import random\n",
    "import copy\n",
    "\n",
    "\n",
    "%load_ext autoreload\n",
    "%autoreload 2\n",
    "import env\n",
    "import network\n",
    "import player\n",
    "\n",
    "\n",
    "BOARD_XSIZE = env.BOARD_XSIZE\n",
    "BOARD_YSIZE = env.BOARD_YSIZE\n",
    "\n",
    "DIMS=(BOARD_XSIZE,BOARD_YSIZE)\n",
    "\n",
    "\n",
    "EPISODES_PER_AGENT = 32\n",
    "TRAIN_EPOCHS = 500000\n",
    "MODEL_SAVE_INTERVAL = 100\n",
    "MAKE_OPPONENT_INTERVAL = 2000\n",
    "SUMMARY_STATS_INTERVAL = 10\n",
    "RANDOM_SEED = 42\n",
    "\n",
    "SUMMARY_DIR = './summary'\n",
    "MODEL_DIR = './models'\n",
    "\n",
    "# create result directory\n",
    "if not os.path.exists(SUMMARY_DIR):\n",
    "    os.makedirs(SUMMARY_DIR)\n",
    "\n",
    "use_cuda = torch.cuda.is_available()\n",
    "torch.manual_seed(RANDOM_SEED)\n",
    "\n",
    "cuda = torch.device(\"cuda\")\n",
    "cpu = torch.device(\"cpu\")\n",
    "\n",
    "if use_cuda:\n",
    "    device = cuda\n",
    "else:\n",
    "    device = cpu"
   ]
  },
  {
   "cell_type": "code",
   "execution_count": null,
   "metadata": {},
   "outputs": [
    {
     "ename": "",
     "evalue": "",
     "output_type": "error",
     "traceback": [
      "\u001b[1;31mThe kernel failed to start due to the missing module 'prompt_toolkit.formatted_text'. Consider installing this module.\n",
      "\u001b[1;31mClick <a href='https://aka.ms/kernelFailuresMissingModule'>here</a> for more info."
     ]
    }
   ],
   "source": [
    "impostor_actor = network.Actor().to(device)\n",
    "impostor_critic = network.Critic().to(device)\n",
    "impostor_actor_optimizer = optim.Adam(impostor_actor.parameters(), lr=network.ACTOR_LR)\n",
    "impostor_critic_optimizer = optim.Adam(impostor_critic.parameters(), lr=network.CRITIC_LR)\n",
    "\n",
    "crewmate_actor = network.Actor().to(device)\n",
    "crewmate_critic = network.Critic().to(device)\n",
    "crewmate_actor_optimizer = optim.Adam(crewmate_actor.parameters(), lr=network.ACTOR_LR)\n",
    "crewmate_critic_optimizer = optim.Adam(crewmate_critic.parameters(), lr=network.CRITIC_LR)\n",
    "\n",
    "# Get Writer\n",
    "writer = SummaryWriter(log_dir=SUMMARY_DIR)\n",
    "\n",
    "impostor_step = 0\n",
    "crewmate_step = 0"
   ]
  },
  {
   "cell_type": "code",
   "execution_count": null,
   "metadata": {},
   "outputs": [
    {
     "ename": "",
     "evalue": "",
     "output_type": "error",
     "traceback": [
      "\u001b[1;31mThe kernel failed to start due to the missing module 'prompt_toolkit.formatted_text'. Consider installing this module.\n",
      "\u001b[1;31mClick <a href='https://aka.ms/kernelFailuresMissingModule'>here</a> for more info."
     ]
    }
   ],
   "source": [
    "def random_valid_location() -> tuple[int, int]:\n",
    "    x = np.random.randint(0, BOARD_XSIZE)\n",
    "    y = np.random.randint(0, BOARD_YSIZE)\n",
    "    return (x, y)\n",
    "\n",
    "\n",
    "@dataclass\n",
    "class GameSummary:\n",
    "    configuration: tuple[str, str, str]\n",
    "    actor_is_impostor: bool\n",
    "\n",
    "\n",
    "def play(\n",
    "    actor_engine: player.ActorPlayer,\n",
    "    actor_is_impostor: bool,\n",
    "    other_engines: list[player.Player],\n",
    ") -> tuple[\n",
    "    list[env.Observation],\n",
    "    list[env.Action],\n",
    "    list[float],\n",
    "    list[float],\n",
    "    list[float],\n",
    "    GameSummary,\n",
    "]:\n",
    "    # create environment\n",
    "    initial_state = env.State(\n",
    "        {},\n",
    "        np.zeros((BOARD_XSIZE, BOARD_YSIZE), dtype=np.int8),\n",
    "        np.zeros((BOARD_XSIZE, BOARD_YSIZE), dtype=np.int8),\n",
    "    )\n",
    "\n",
    "    # randomize task location\n",
    "    for _ in range(10):\n",
    "        location = random_valid_location()\n",
    "        initial_state.tasks[location] += 5\n",
    "\n",
    "    # create actor player at random location\n",
    "    actor_state = env.PlayerState(random_valid_location(), actor_is_impostor)\n",
    "    # create other players at random locations\n",
    "    other_state = [\n",
    "        env.PlayerState(random_valid_location(), False) for _ in other_engines\n",
    "    ]\n",
    "\n",
    "    # set the players in the environment\n",
    "    initial_state.players = {str(i): s for i, s in enumerate(other_state)}\n",
    "    initial_state.players[\"actor\"] = actor_state\n",
    "\n",
    "    # set the player data\n",
    "    agent_engines = {str(i): e for i, e in enumerate(other_engines)}\n",
    "    agent_engines[\"actor\"] = actor_engine\n",
    "\n",
    "    impostor = (\n",
    "        str(np.random.randint(0, len(other_engines))) if actor_is_impostor else \"actor\"\n",
    "    )\n",
    "\n",
    "    e = env.AmogusEnv(initial_state)\n",
    "\n",
    "    s_t: list[env.Observation] = []\n",
    "    a_t: list[env.Action] = []\n",
    "    r_t: list[float] = []\n",
    "    # play the game\n",
    "    last_obs = e.reset()\n",
    "\n",
    "    done = False\n",
    "    while not done:\n",
    "        # gather actions\n",
    "        actions = {}\n",
    "        for agent, agent_engine in agent_engines.items():\n",
    "            chosen_action = agent_engine.play(agent == impostor, last_obs[agent])\n",
    "            actions[agent] = chosen_action\n",
    "            # if the player is the actor we're gathering data for, then we need to store the data\n",
    "            if agent == \"actor\":\n",
    "                s_t += [last_obs[agent]]\n",
    "                a_t += [chosen_action]\n",
    "        \n",
    "        # step\n",
    "        last_obs, rewards, terminateds, truncateds, _ = e.step(actions)\n",
    "\n",
    "        # add rewards\n",
    "        r_t += [rewards[\"actor\"]]\n",
    "\n",
    "        for agent in last_obs.keys():\n",
    "            if terminateds[agent] or truncateds[agent]:\n",
    "                del agent_engines[agent]\n",
    "                # if the actor we're gathering data for is dead, then we need to stop\n",
    "                if agent == \"actor\":\n",
    "                    done = True\n",
    "\n",
    "    # compute advantage and value\n",
    "    critic_network = impostor_critic if actor_is_impostor else crewmate_critic\n",
    "    d_t = network.compute_advantage(critic_network, s_t, r_t)\n",
    "    v_t = network.compute_value(r_t)\n",
    "\n",
    "    summary = GameSummary(\n",
    "        tuple(sorted(e.name() for e in other_engines)), actor_is_impostor\n",
    "    )\n",
    "\n",
    "    return s_t, a_t, r_t, d_t, v_t, summary\n"
   ]
  },
  {
   "cell_type": "code",
   "execution_count": null,
   "metadata": {},
   "outputs": [
    {
     "ename": "",
     "evalue": "",
     "output_type": "error",
     "traceback": [
      "\u001b[1;31mThe kernel failed to start due to the missing module 'prompt_toolkit.formatted_text'. Consider installing this module.\n",
      "\u001b[1;31mClick <a href='https://aka.ms/kernelFailuresMissingModule'>here</a> for more info."
     ]
    }
   ],
   "source": [
    "opponent_pool: list[player.Player] = [\n",
    "    player.RandomPlayer(),\n",
    "    player.GreedyPlayer(),\n",
    "]\n",
    "\n",
    "# a temp buffer of the current model's rewards\n",
    "crewmate_rewards_vs:defaultdict[tuple[str, str, str], list[float]] = defaultdict(lambda:[])\n",
    "impostor_rewards_vs:defaultdict[tuple[str, str, str], list[float]] = defaultdict(lambda:[])\n",
    "\n",
    "\n",
    "# the history of rewards over time\n",
    "crewmate_rewards_history:defaultdict[tuple[str, str, str], list[tuple[int, float]]] = defaultdict(lambda:[])\n",
    "impostor_rewards_history:defaultdict[tuple[str, str, str], list[tuple[int, float]]] = defaultdict(lambda:[])"
   ]
  },
  {
   "cell_type": "code",
   "execution_count": null,
   "metadata": {},
   "outputs": [
    {
     "ename": "",
     "evalue": "",
     "output_type": "error",
     "traceback": [
      "\u001b[1;31mThe kernel failed to start due to the missing module 'prompt_toolkit.formatted_text'. Consider installing this module.\n",
      "\u001b[1;31mClick <a href='https://aka.ms/kernelFailuresMissingModule'>here</a> for more info."
     ]
    }
   ],
   "source": [
    "for _ in range(TRAIN_EPOCHS):\n",
    "    crewmate_s_batch:list[env.Observation] = []\n",
    "    crewmate_a_batch:list[env.Action] = []\n",
    "    crewmate_r_batch:list[float] = []\n",
    "    crewmate_d_batch:list[float] = []\n",
    "    crewmate_v_batch:list[float] = []\n",
    "    \n",
    "    impostor_s_batch:list[env.Observation] = []\n",
    "    impostor_a_batch:list[env.Action] = []\n",
    "    impostor_r_batch:list[float] = []\n",
    "    impostor_d_batch:list[float] = []\n",
    "    impostor_v_batch:list[float] = []\n",
    "\n",
    "    # create actor player\n",
    "    nn_player = player.ActorPlayer(\n",
    "        impostor_actor, impostor_critic, impostor_step,\n",
    "        crewmate_actor, crewmate_critic, crewmate_step,\n",
    "    )\n",
    "\n",
    "    futures = []\n",
    "    for i in range(EPISODES_PER_AGENT):\n",
    "        others = [random.choice(opponent_pool)]*3\n",
    "        # play the game\n",
    "        future = play(nn_player, False, others)\n",
    "        futures.append(future)\n",
    "\n",
    "    for i in range(EPISODES_PER_AGENT):\n",
    "        others = [random.choice(opponent_pool)]*3\n",
    "        # play the game\n",
    "        future = play(nn_player, True, others)\n",
    "        futures.append(future)\n",
    "\n",
    "    \n",
    "    for future in futures:\n",
    "        s_t, a_t, r_t, d_t, v_t, game_summary = future\n",
    "\n",
    "        configuration = game_summary.configuration\n",
    "        r = np.sum(r_t)\n",
    "\n",
    "        if game_summary.actor_is_impostor:\n",
    "            impostor_s_batch += s_t\n",
    "            impostor_a_batch += a_t\n",
    "            impostor_r_batch += r_t\n",
    "            impostor_d_batch += d_t\n",
    "            impostor_v_batch += v_t\n",
    "            # statistics\n",
    "            impostor_rewards_vs[configuration] += [r]\n",
    "        else:\n",
    "            crewmate_s_batch += s_t\n",
    "            crewmate_a_batch += a_t\n",
    "            crewmate_r_batch += r_t\n",
    "            crewmate_d_batch += d_t\n",
    "            crewmate_v_batch += v_t\n",
    "            # statistics\n",
    "            crewmate_rewards_vs[configuration] += [r]\n",
    "\n",
    "\n",
    "    crewmate_actor_losses, crewmate_critic_losses = network.train_ppo(\n",
    "        crewmate_actor,\n",
    "        crewmate_critic,\n",
    "        crewmate_actor_optimizer,\n",
    "        crewmate_critic_optimizer,\n",
    "        crewmate_s_batch,\n",
    "        crewmate_a_batch,\n",
    "        crewmate_d_batch,\n",
    "        crewmate_v_batch\n",
    "    )\n",
    "\n",
    "    impostor_actor_losses, impostor_critic_losses = network.train_ppo(\n",
    "        impostor_actor,\n",
    "        impostor_critic,\n",
    "        impostor_actor_optimizer,\n",
    "        impostor_critic_optimizer,\n",
    "        impostor_s_batch,\n",
    "        impostor_a_batch,\n",
    "        impostor_d_batch,\n",
    "        impostor_v_batch\n",
    "    )\n",
    "\n",
    "    for crewmate_actor_loss, crewmate_critic_loss, impostor_actor_loss, impostor_critic_loss in zip(crewmate_actor_losses, crewmate_critic_losses, impostor_actor_losses, impostor_critic_losses):\n",
    "        writer.add_scalar('impostor_actor_loss', impostor_actor_loss, impostor_step)\n",
    "        writer.add_scalar('impostor_critic_loss', impostor_critic_loss, impostor_step)\n",
    "\n",
    "        writer.add_scalar('crewmate_actor_loss', crewmate_actor_loss, crewmate_step)\n",
    "        writer.add_scalar('crewmate_critic_loss', crewmate_critic_loss, crewmate_step)\n",
    "\n",
    "        if impostor_step % SUMMARY_STATS_INTERVAL == 0:\n",
    "            for opponent_name, rewards in impostor_rewards_vs.items():\n",
    "                if len(rewards) > 50:\n",
    "                    avg_reward = np.array(rewards).mean()\n",
    "                    writer.add_scalar(f'impostor_reward_against_{opponent_name}', avg_reward, impostor_step)\n",
    "                    impostor_rewards_vs[opponent_name] = []\n",
    "                    impostor_rewards_history[opponent_name] += [(impostor_step, avg_reward)]\n",
    "\n",
    "        if crewmate_step % SUMMARY_STATS_INTERVAL == 0:\n",
    "            for opponent_name, rewards in crewmate_rewards_vs.items():\n",
    "                if len(rewards) > 50:\n",
    "                    avg_reward = np.array(rewards).mean()\n",
    "                    writer.add_scalar(f'crewmate_reward_against_{opponent_name}', avg_reward, crewmate_step)\n",
    "                    crewmate_rewards_vs[opponent_name] = []\n",
    "                    crewmate_rewards_history[opponent_name] += [(crewmate_step, avg_reward)]\n",
    "\n",
    "        def clone_nn(nn):\n",
    "            new_nn = copy.deepcopy(nn)\n",
    "            new_nn.eval()\n",
    "            new_nn.to(device)\n",
    "            return new_nn\n",
    "\n",
    "        if impostor_step % MAKE_OPPONENT_INTERVAL == 0:\n",
    "            # create a new opponent\n",
    "            frozen_impostor_actor = clone_nn(impostor_actor)\n",
    "            frozen_impostor_critic = clone_nn(impostor_critic)\n",
    "            frozen_crewmate_actor = clone_nn(crewmate_actor)\n",
    "            frozen_crewmate_critic = clone_nn(crewmate_critic)\n",
    "            frozen_nn_player = player.ActorPlayer(\n",
    "                frozen_impostor_actor, frozen_impostor_critic, impostor_step,\n",
    "                frozen_crewmate_actor, frozen_crewmate_critic, crewmate_step,\n",
    "            )\n",
    "            opponent_pool.append(frozen_nn_player)\n",
    "\n",
    "        # Save the neural net parameters to disk.\n",
    "        if impostor_step % MODEL_SAVE_INTERVAL == 0:\n",
    "            torch.save(impostor_actor.state_dict(), f\"{SUMMARY_DIR}/impostor_model_ep_{impostor_step}_actor.ckpt\")\n",
    "            torch.save(impostor_critic.state_dict(), f\"{SUMMARY_DIR}/impostor_model_ep_{impostor_step}_critic.ckpt\")\n",
    "\n",
    "        # Save the neural net parameters to disk.\n",
    "        if crewmate_step % MODEL_SAVE_INTERVAL == 0:\n",
    "            torch.save(crewmate_actor.state_dict(), f\"{SUMMARY_DIR}/crewmate_model_ep_{crewmate_step}_actor.ckpt\")\n",
    "            torch.save(crewmate_critic.state_dict(), f\"{SUMMARY_DIR}/crewmate_model_ep_{crewmate_step}_critic.ckpt\")\n",
    "        \n",
    "        crewmate_step += 1\n",
    "        impostor_step += 1"
   ]
  },
  {
   "attachments": {},
   "cell_type": "markdown",
   "metadata": {},
   "source": [
    "Interrupted kernel due to convergence."
   ]
  },
  {
   "cell_type": "code",
   "execution_count": null,
   "metadata": {},
   "outputs": [
    {
     "ename": "",
     "evalue": "",
     "output_type": "error",
     "traceback": [
      "\u001b[1;31mThe kernel failed to start due to the missing module 'prompt_toolkit.formatted_text'. Consider installing this module.\n",
      "\u001b[1;31mClick <a href='https://aka.ms/kernelFailuresMissingModule'>here</a> for more info."
     ]
    }
   ],
   "source": [
    "others = []\n",
    "for _ in range(3):\n",
    "    others.append(player.RandomPlayer())\n",
    "# play the game            \n",
    "s_t, a_t, r_t, d_t, v_t, _ = play(nn_player, False, others)"
   ]
  },
  {
   "cell_type": "code",
   "execution_count": null,
   "metadata": {},
   "outputs": [
    {
     "ename": "",
     "evalue": "",
     "output_type": "error",
     "traceback": [
      "\u001b[1;31mThe kernel failed to start due to the missing module 'prompt_toolkit.formatted_text'. Consider installing this module.\n",
      "\u001b[1;31mClick <a href='https://aka.ms/kernelFailuresMissingModule'>here</a> for more info."
     ]
    }
   ],
   "source": [
    "for s, a, r, d, v in zip(s_t, a_t, r_t, d_t, v_t):\n",
    "    print(\"-----------------------------------\")\n",
    "    env.print_obs(s)\n",
    "    env.print_action(a)\n",
    "    print(\"reward:\", r)\n",
    "    print(\"advantage:\", d)\n",
    "    print(\"value:\", v)"
   ]
  },
  {
   "cell_type": "code",
   "execution_count": null,
   "metadata": {},
   "outputs": [
    {
     "ename": "",
     "evalue": "",
     "output_type": "error",
     "traceback": [
      "\u001b[1;31mThe kernel failed to start due to the missing module 'prompt_toolkit.formatted_text'. Consider installing this module.\n",
      "\u001b[1;31mClick <a href='https://aka.ms/kernelFailuresMissingModule'>here</a> for more info."
     ]
    }
   ],
   "source": [
    "import matplotlib.pyplot as plt\n",
    "\n",
    "# plot the crewmate rewards against random opponents\n",
    "rx, ry= zip(*crewmate_rewards_history[('random', 'random', 'random')])\n",
    "gx, gy= zip(*crewmate_rewards_history[('greedy', 'greedy', 'greedy')])\n",
    "rx = [x / 10 for x in rx]\n",
    "gx = [x / 10 for x in gx]\n",
    "\n",
    "\n",
    "plt.plot(rx, ry, label='Reward against Random Impostor')\n",
    "plt.plot(gx, gy, label='Reward against Engineered Impostor')\n",
    "\n",
    "plt.title('(Crewmate) PPO Learned Policy vs Various Impostor Policies')\n",
    "plt.xlabel('Step')\n",
    "plt.ylabel('Reward')\n",
    "plt.legend()\n",
    "plt.show()"
   ]
  },
  {
   "cell_type": "code",
   "execution_count": null,
   "metadata": {},
   "outputs": [
    {
     "ename": "",
     "evalue": "",
     "output_type": "error",
     "traceback": [
      "\u001b[1;31mThe kernel failed to start due to the missing module 'prompt_toolkit.formatted_text'. Consider installing this module.\n",
      "\u001b[1;31mClick <a href='https://aka.ms/kernelFailuresMissingModule'>here</a> for more info."
     ]
    }
   ],
   "source": [
    "import matplotlib.pyplot as plt\n",
    "\n",
    "# plot the impostor against random opponents\n",
    "rx, ry= zip(*impostor_rewards_history[('random', 'random', 'random')])\n",
    "gx, gy= zip(*impostor_rewards_history[('greedy', 'greedy', 'greedy')])\n",
    "rx = [x / 10 for x in rx]\n",
    "gx = [x / 10 for x in gx]\n",
    "\n",
    "plt.plot(rx, ry, label='Reward against Random Crewmate')\n",
    "plt.plot(gx, gy, label='Reward against Engineered Crewmate')\n",
    "plt.title('(Impostor) PPO Learned Policy vs Various Crewmate Policies')\n",
    "plt.xlabel('Step')\n",
    "plt.ylabel('Reward')\n",
    "plt.legend()\n",
    "plt.show()"
   ]
  },
  {
   "cell_type": "code",
   "execution_count": null,
   "metadata": {},
   "outputs": [
    {
     "ename": "",
     "evalue": "",
     "output_type": "error",
     "traceback": [
      "\u001b[1;31mThe kernel failed to start due to the missing module 'prompt_toolkit.formatted_text'. Consider installing this module.\n",
      "\u001b[1;31mClick <a href='https://aka.ms/kernelFailuresMissingModule'>here</a> for more info."
     ]
    }
   ],
   "source": [
    "def play_benchmark(engine: player.Player, is_impostor: bool, other_engines: list[player.Player]) -> list[env.Reward]:\n",
    "    # create environment\n",
    "    initial_state = env.State(\n",
    "        [],\n",
    "        np.zeros((BOARD_XSIZE, BOARD_YSIZE), dtype=np.int8),\n",
    "    )\n",
    "\n",
    "    # randomize task location\n",
    "    for _ in range(5):\n",
    "        location = random_valid_location()\n",
    "        initial_state.tasks[location] += 5\n",
    "\n",
    "    # create actor player at random location\n",
    "    actor_playerstate = env.PlayerState(random_valid_location(), is_impostor, False)\n",
    "    # create other players at random locations\n",
    "    other_playerstate = [env.PlayerState(random_valid_location(), False, False) for _ in other_engines]\n",
    "    # If the actor is not an impostor, then the impostor is randomly chosen from the others.\n",
    "    if not is_impostor:\n",
    "        random.choice(other_playerstate).impostor = True\n",
    "\n",
    "    # set the players in the environment\n",
    "    initial_state.players = [actor_playerstate] + other_playerstate\n",
    "    # set the player engines\n",
    "    player_engines = [engine] + other_engines\n",
    "\n",
    "    # shuffle the player indices such that the corresponding player states and engines have the same indices\n",
    "    random_indices = np.random.permutation(len(player_engines))\n",
    "    initial_state.players = [initial_state.players[i] for i in random_indices]\n",
    "    player_engines = [player_engines[i] for i in random_indices]\n",
    "\n",
    "    actor_index = env.Player(np.argwhere(random_indices==0)[0][0])\n",
    "\n",
    "    e = env.Env(initial_state)\n",
    "\n",
    "    r_t: list[env.Reward] = []\n",
    "    # play the game\n",
    "    while not e.game_over():\n",
    "        for player, player_engine in enumerate(player_engines):\n",
    "            player = env.Player(player)\n",
    "            if player == actor_index:\n",
    "                _, _, chosen_action = player_engine.play(player, e)\n",
    "                e.play(chosen_action, player)\n",
    "            else:\n",
    "                if e.game_over_for(player):\n",
    "                    continue\n",
    "                _, _, chosen_action = player_engine.play(player, e)\n",
    "                e.play(chosen_action, player)\n",
    "        # step and get rewards\n",
    "        rewards = e.step()\n",
    "        r_t += [rewards[actor_index]]\n",
    "        # if the actor we're gathering data for is dead, then we need to stop\n",
    "        if e.game_over_for(env.Player(actor_index)):\n",
    "            break\n",
    "\n",
    "    return r_t"
   ]
  },
  {
   "cell_type": "code",
   "execution_count": null,
   "metadata": {},
   "outputs": [
    {
     "ename": "",
     "evalue": "",
     "output_type": "error",
     "traceback": [
      "\u001b[1;31mThe kernel failed to start due to the missing module 'prompt_toolkit.formatted_text'. Consider installing this module.\n",
      "\u001b[1;31mClick <a href='https://aka.ms/kernelFailuresMissingModule'>here</a> for more info."
     ]
    }
   ],
   "source": [
    "SAMPLES = 50\n",
    "\n",
    "nn_crewmate_vs_random_impostor = []\n",
    "random_crewmate_vs_random_impostor = []\n",
    "greedy_crewmate_vs_random_impostor = []\n",
    "\n",
    "# run a couple simulations to find how well the learned policy does against a random impostor\n",
    "for _ in range(SAMPLES):\n",
    "    r_t = play_benchmark(nn_player, False, [player.RandomPlayer()]*3)\n",
    "    nn_crewmate_vs_random_impostor.append(np.sum(r_t))\n",
    "\n",
    "# run a couple simulations to find how well the random policy does against a random impostor\n",
    "for _ in range(SAMPLES):\n",
    "    r_t = play_benchmark(player.RandomPlayer(), False, [player.RandomPlayer()]*3)\n",
    "    random_crewmate_vs_random_impostor.append(np.sum(r_t))\n",
    "\n",
    "# run a couple simulations to find how well the greedy policy does against a random impostor\n",
    "for _ in range(SAMPLES):\n",
    "    r_t = play_benchmark(player.GreedyPlayer(), False, [player.RandomPlayer()]*3)\n",
    "    greedy_crewmate_vs_random_impostor.append(np.sum(r_t))\n",
    "\n",
    "\n",
    "nn_impostor_vs_random_crewmate = []\n",
    "random_impostor_vs_random_crewmate = []\n",
    "greedy_impostor_vs_random_crewmate = []\n",
    "\n",
    "# run a couple simulations to find how well the learned policy does against a random crewmate\n",
    "for _ in range(SAMPLES):\n",
    "    r_t = play_benchmark(nn_player, True, [player.RandomPlayer()]*3)\n",
    "    nn_impostor_vs_random_crewmate.append(np.sum(r_t))\n",
    "\n",
    "# run a couple simulations to find how well the random policy does against a random crewmate\n",
    "for _ in range(SAMPLES):\n",
    "    r_t = play_benchmark(player.RandomPlayer(), True, [player.RandomPlayer()]*3)\n",
    "    random_impostor_vs_random_crewmate.append(np.sum(r_t))\n",
    "\n",
    "# run a couple simulations to find how well the greedy policy does against a random crewmate\n",
    "for _ in range(SAMPLES):\n",
    "    r_t = play_benchmark(player.GreedyPlayer(), True, [player.RandomPlayer()]*3)\n",
    "    greedy_impostor_vs_random_crewmate.append(np.sum(r_t))"
   ]
  },
  {
   "cell_type": "code",
   "execution_count": null,
   "metadata": {},
   "outputs": [
    {
     "ename": "",
     "evalue": "",
     "output_type": "error",
     "traceback": [
      "\u001b[1;31mThe kernel failed to start due to the missing module 'prompt_toolkit.formatted_text'. Consider installing this module.\n",
      "\u001b[1;31mClick <a href='https://aka.ms/kernelFailuresMissingModule'>here</a> for more info."
     ]
    }
   ],
   "source": [
    "print(\"nn_crewmate_vs_random_impostor\", np.mean(nn_crewmate_vs_random_impostor))\n",
    "print(\"random_crewmate_vs_random_impostor\", np.mean(random_crewmate_vs_random_impostor))\n",
    "print(\"engineered_crewmate_vs_random_impostor\", np.mean(greedy_crewmate_vs_random_impostor))\n",
    "print()\n",
    "print(\"nn_impostor_vs_random_crewmate\", np.mean(nn_impostor_vs_random_crewmate))\n",
    "print(\"random_impostor_vs_random_crewmate\", np.mean(random_impostor_vs_random_crewmate))\n",
    "print(\"engineered_impostor_vs_random_crewmate\", np.mean(greedy_impostor_vs_random_crewmate))"
   ]
  },
  {
   "cell_type": "code",
   "execution_count": null,
   "metadata": {},
   "outputs": [
    {
     "ename": "",
     "evalue": "",
     "output_type": "error",
     "traceback": [
      "\u001b[1;31mThe kernel failed to start due to the missing module 'prompt_toolkit.formatted_text'. Consider installing this module.\n",
      "\u001b[1;31mClick <a href='https://aka.ms/kernelFailuresMissingModule'>here</a> for more info."
     ]
    }
   ],
   "source": [
    "print(\"nn_policy_vs_random_policy (crewmate):\" , np.mean(nn_crewmate_vs_random_impostor)/np.mean(random_crewmate_vs_random_impostor))\n",
    "print(\"nn_policy_vs_engineered_policy (crewmate):\" , np.mean(nn_crewmate_vs_random_impostor)/np.mean(greedy_crewmate_vs_random_impostor))\n",
    "print()\n",
    "print(\"nn_policy_vs_random_policy (impostor):\" , np.mean(nn_impostor_vs_random_crewmate)/np.mean(random_impostor_vs_random_crewmate))\n",
    "print(\"nn_policy_vs_engineered_policy (impostor):\" , np.mean(nn_impostor_vs_random_crewmate)/np.mean(greedy_impostor_vs_random_crewmate))"
   ]
  }
 ],
 "metadata": {
  "kernelspec": {
   "display_name": "Python 3",
   "language": "python",
   "name": "python3"
  },
  "language_info": {
   "codemirror_mode": {
    "name": "ipython",
    "version": 3
   },
   "file_extension": ".py",
   "mimetype": "text/x-python",
   "name": "python",
   "nbconvert_exporter": "python",
   "pygments_lexer": "ipython3",
   "version": "3.10.8"
  },
  "orig_nbformat": 4
 },
 "nbformat": 4,
 "nbformat_minor": 2
}
